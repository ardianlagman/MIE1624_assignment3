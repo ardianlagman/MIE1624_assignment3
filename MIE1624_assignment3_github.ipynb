{
 "cells": [
  {
   "cell_type": "code",
   "execution_count": 1,
   "id": "b587d678",
   "metadata": {},
   "outputs": [
    {
     "name": "stderr",
     "output_type": "stream",
     "text": [
      "[nltk_data] Downloading package punkt to\n",
      "[nltk_data]     C:\\Users\\Ardian\\AppData\\Roaming\\nltk_data...\n",
      "[nltk_data]   Package punkt is already up-to-date!\n",
      "[nltk_data] Downloading package stopwords to\n",
      "[nltk_data]     C:\\Users\\Ardian\\AppData\\Roaming\\nltk_data...\n",
      "[nltk_data]   Package stopwords is already up-to-date!\n",
      "[nltk_data] Error loading LancasterStemmer: Package 'LancasterStemmer'\n",
      "[nltk_data]     not found in index\n",
      "[nltk_data] Error loading WordNetLemmetizer: Package\n",
      "[nltk_data]     'WordNetLemmetizer' not found in index\n",
      "[nltk_data] Downloading package wordnet to\n",
      "[nltk_data]     C:\\Users\\Ardian\\AppData\\Roaming\\nltk_data...\n",
      "[nltk_data]   Package wordnet is already up-to-date!\n",
      "[nltk_data] Downloading package vader_lexicon to\n",
      "[nltk_data]     C:\\Users\\Ardian\\AppData\\Roaming\\nltk_data...\n",
      "[nltk_data]   Package vader_lexicon is already up-to-date!\n"
     ]
    }
   ],
   "source": [
    "import nltk\n",
    "nltk.download('punkt')\n",
    "nltk.download('stopwords')\n",
    "nltk.download('LancasterStemmer')\n",
    "nltk.download('WordNetLemmetizer')\n",
    "nltk.download('wordnet')\n",
    "nltk.download('vader_lexicon')\n",
    "from nltk.tokenize import RegexpTokenizer\n",
    "from nltk.corpus import stopwords\n",
    "from nltk import word_tokenize\n",
    "from nltk import LancasterStemmer\n",
    "from nltk import WordNetLemmatizer\n",
    "from nltk.sentiment import SentimentIntensityAnalyzer\n",
    "import math\n",
    "import re\n",
    "import unicodedata\n",
    "import torch\n",
    "import torchtext\n",
    "import sklearn\n",
    "from sklearn.feature_extraction.text import CountVectorizer,  TfidfVectorizer, HashingVectorizer\n",
    "import csv\n",
    "import pandas as pd\n",
    "from sklearn.model_selection import ShuffleSplit\n",
    "from sklearn.linear_model import LogisticRegression\n",
    "from sklearn.neighbors import KNeighborsClassifier\n",
    "from sklearn.metrics import f1_score, accuracy_score, roc_auc_score\n",
    "from sklearn.svm import SVC\n",
    "from sklearn.naive_bayes import MultinomialNB\n",
    "from sklearn.ensemble import RandomForestClassifier\n",
    "from sklearn.tree import DecisionTreeClassifier\n",
    "from xgboost.sklearn import XGBModel, XGBRegressor\n",
    "from sklearn.svm import LinearSVC\n",
    "import operator\n",
    "from collections import Counter\n",
    "\n",
    "from sklearn.preprocessing import LabelEncoder\n",
    "\n",
    "import seaborn as sns\n",
    "\n",
    "\n",
    "import warnings\n",
    "warnings.filterwarnings('ignore')\n",
    "\n",
    "import re\n",
    "\n",
    "from bs4 import BeautifulSoup\n",
    "\n",
    "from html.parser import HTMLParser\n",
    "\n",
    "import matplotlib.pyplot as plt\n",
    "\n",
    "import numpy as np\n",
    "\n",
    "import time"
   ]
  },
  {
   "cell_type": "code",
   "execution_count": 2,
   "id": "7fd87a18",
   "metadata": {},
   "outputs": [],
   "source": [
    "start_time = time.time()"
   ]
  },
  {
   "cell_type": "markdown",
   "id": "5f73c8b8",
   "metadata": {},
   "source": [
    "# Importing files"
   ]
  },
  {
   "cell_type": "code",
   "execution_count": 3,
   "id": "4702ec60",
   "metadata": {},
   "outputs": [],
   "source": [
    "sentiment_df = pd.read_csv('sentiment_analysis.csv', low_memory = False)"
   ]
  },
  {
   "cell_type": "code",
   "execution_count": 4,
   "id": "79cb411c",
   "metadata": {},
   "outputs": [],
   "source": [
    "elections_df = pd.read_csv('Canadian_elections_2021.csv', low_memory = False)"
   ]
  },
  {
   "cell_type": "code",
   "execution_count": 5,
   "id": "0610acb8",
   "metadata": {},
   "outputs": [
    {
     "data": {
      "text/html": [
       "<div>\n",
       "<style scoped>\n",
       "    .dataframe tbody tr th:only-of-type {\n",
       "        vertical-align: middle;\n",
       "    }\n",
       "\n",
       "    .dataframe tbody tr th {\n",
       "        vertical-align: top;\n",
       "    }\n",
       "\n",
       "    .dataframe thead th {\n",
       "        text-align: right;\n",
       "    }\n",
       "</style>\n",
       "<table border=\"1\" class=\"dataframe\">\n",
       "  <thead>\n",
       "    <tr style=\"text-align: right;\">\n",
       "      <th></th>\n",
       "      <th>ID</th>\n",
       "      <th>text</th>\n",
       "      <th>label</th>\n",
       "    </tr>\n",
       "  </thead>\n",
       "  <tbody>\n",
       "    <tr>\n",
       "      <td>0</td>\n",
       "      <td>7.680980e+17</td>\n",
       "      <td>Josh Jenkins is looking forward to TAB Breeder...</td>\n",
       "      <td>1</td>\n",
       "    </tr>\n",
       "    <tr>\n",
       "      <td>1</td>\n",
       "      <td>7.680980e+17</td>\n",
       "      <td>RT @MianUsmanJaved: Congratulations Pakistan o...</td>\n",
       "      <td>1</td>\n",
       "    </tr>\n",
       "    <tr>\n",
       "      <td>2</td>\n",
       "      <td>7.680980e+17</td>\n",
       "      <td>RT @PEPalerts: This September, @YESmag is taki...</td>\n",
       "      <td>1</td>\n",
       "    </tr>\n",
       "    <tr>\n",
       "      <td>3</td>\n",
       "      <td>7.680980e+17</td>\n",
       "      <td>RT @david_gaibis: Newly painted walls, thanks ...</td>\n",
       "      <td>1</td>\n",
       "    </tr>\n",
       "    <tr>\n",
       "      <td>4</td>\n",
       "      <td>7.680980e+17</td>\n",
       "      <td>RT @CedricFeschotte: Excited to announce: as o...</td>\n",
       "      <td>1</td>\n",
       "    </tr>\n",
       "  </tbody>\n",
       "</table>\n",
       "</div>"
      ],
      "text/plain": [
       "             ID                                               text  label\n",
       "0  7.680980e+17  Josh Jenkins is looking forward to TAB Breeder...      1\n",
       "1  7.680980e+17  RT @MianUsmanJaved: Congratulations Pakistan o...      1\n",
       "2  7.680980e+17  RT @PEPalerts: This September, @YESmag is taki...      1\n",
       "3  7.680980e+17  RT @david_gaibis: Newly painted walls, thanks ...      1\n",
       "4  7.680980e+17  RT @CedricFeschotte: Excited to announce: as o...      1"
      ]
     },
     "execution_count": 5,
     "metadata": {},
     "output_type": "execute_result"
    }
   ],
   "source": [
    "sentiment_df.head() #label 1 = positive, label 0 = negative"
   ]
  },
  {
   "cell_type": "code",
   "execution_count": 6,
   "id": "7359dd8a",
   "metadata": {},
   "outputs": [],
   "source": [
    "#Need to remove the extra quotation mark for the string"
   ]
  },
  {
   "cell_type": "code",
   "execution_count": 7,
   "id": "96631986",
   "metadata": {},
   "outputs": [
    {
     "data": {
      "text/plain": [
       "'Josh Jenkins is looking forward to TAB Breeders Crown Super Sunday https://t.co/antImqAo4Y https://t.co/ejnA78Sks0'"
      ]
     },
     "execution_count": 7,
     "metadata": {},
     "output_type": "execute_result"
    }
   ],
   "source": [
    "sentiment_df['text'].iloc[0]"
   ]
  },
  {
   "cell_type": "code",
   "execution_count": 8,
   "id": "164b75db",
   "metadata": {},
   "outputs": [
    {
     "data": {
      "text/plain": [
       "'J'"
      ]
     },
     "execution_count": 8,
     "metadata": {},
     "output_type": "execute_result"
    }
   ],
   "source": [
    "sentiment_df['text'].iloc[0][0]"
   ]
  },
  {
   "cell_type": "code",
   "execution_count": 9,
   "id": "5b28a05e",
   "metadata": {},
   "outputs": [
    {
     "data": {
      "text/plain": [
       "'0'"
      ]
     },
     "execution_count": 9,
     "metadata": {},
     "output_type": "execute_result"
    }
   ],
   "source": [
    "sentiment_df['text'].iloc[0][-1]"
   ]
  },
  {
   "cell_type": "code",
   "execution_count": 10,
   "id": "e6100481",
   "metadata": {},
   "outputs": [
    {
     "data": {
      "text/plain": [
       "'osh Jenkins is looking forward to TAB Breeders Crown Super Sunday https://t.co/antImqAo4Y https://t.co/ejnA78Sks0'"
      ]
     },
     "execution_count": 10,
     "metadata": {},
     "output_type": "execute_result"
    }
   ],
   "source": [
    "sentiment_df['text'].iloc[0][1:]"
   ]
  },
  {
   "cell_type": "code",
   "execution_count": 11,
   "id": "21d9c721",
   "metadata": {},
   "outputs": [
    {
     "data": {
      "text/plain": [
       "'Josh Jenkins is looking forward to TAB Breeders Crown Super Sunday https://t.co/antImqAo4Y https://t.co/ejnA78Sks'"
      ]
     },
     "execution_count": 11,
     "metadata": {},
     "output_type": "execute_result"
    }
   ],
   "source": [
    "sentiment_df['text'].iloc[0][:-1]"
   ]
  },
  {
   "cell_type": "code",
   "execution_count": 12,
   "id": "98edb367",
   "metadata": {},
   "outputs": [
    {
     "data": {
      "text/plain": [
       "1    371341\n",
       "0    179050\n",
       "Name: label, dtype: int64"
      ]
     },
     "execution_count": 12,
     "metadata": {},
     "output_type": "execute_result"
    }
   ],
   "source": [
    "sentiment_df.label.value_counts()"
   ]
  },
  {
   "cell_type": "code",
   "execution_count": 13,
   "id": "9224ac42",
   "metadata": {},
   "outputs": [
    {
     "data": {
      "text/plain": [
       "(550391, 3)"
      ]
     },
     "execution_count": 13,
     "metadata": {},
     "output_type": "execute_result"
    }
   ],
   "source": [
    "sentiment_df.shape"
   ]
  },
  {
   "cell_type": "code",
   "execution_count": 14,
   "id": "1edefa34",
   "metadata": {},
   "outputs": [
    {
     "data": {
      "text/html": [
       "<div>\n",
       "<style scoped>\n",
       "    .dataframe tbody tr th:only-of-type {\n",
       "        vertical-align: middle;\n",
       "    }\n",
       "\n",
       "    .dataframe tbody tr th {\n",
       "        vertical-align: top;\n",
       "    }\n",
       "\n",
       "    .dataframe thead th {\n",
       "        text-align: right;\n",
       "    }\n",
       "</style>\n",
       "<table border=\"1\" class=\"dataframe\">\n",
       "  <thead>\n",
       "    <tr style=\"text-align: right;\">\n",
       "      <th></th>\n",
       "      <th>text</th>\n",
       "      <th>sentiment</th>\n",
       "      <th>negative_reason</th>\n",
       "    </tr>\n",
       "  </thead>\n",
       "  <tbody>\n",
       "    <tr>\n",
       "      <td>0</td>\n",
       "      <td>The Canadian election is a power grab by PM Tr...</td>\n",
       "      <td>negative</td>\n",
       "      <td>calling election early</td>\n",
       "    </tr>\n",
       "    <tr>\n",
       "      <td>1</td>\n",
       "      <td>I do hope Trudeau loses the Canadian election ...</td>\n",
       "      <td>negative</td>\n",
       "      <td>covid</td>\n",
       "    </tr>\n",
       "    <tr>\n",
       "      <td>2</td>\n",
       "      <td>Dear Canadians, This election is a test of how...</td>\n",
       "      <td>positive</td>\n",
       "      <td>NaN</td>\n",
       "    </tr>\n",
       "    <tr>\n",
       "      <td>3</td>\n",
       "      <td>Canadian friends: Never forget that Trudeau ha...</td>\n",
       "      <td>negative</td>\n",
       "      <td>calling election early</td>\n",
       "    </tr>\n",
       "    <tr>\n",
       "      <td>4</td>\n",
       "      <td>Sorry @theJagmeetSingh I have voted #NDP all m...</td>\n",
       "      <td>positive</td>\n",
       "      <td>NaN</td>\n",
       "    </tr>\n",
       "  </tbody>\n",
       "</table>\n",
       "</div>"
      ],
      "text/plain": [
       "                                                text sentiment  \\\n",
       "0  The Canadian election is a power grab by PM Tr...  negative   \n",
       "1  I do hope Trudeau loses the Canadian election ...  negative   \n",
       "2  Dear Canadians, This election is a test of how...  positive   \n",
       "3  Canadian friends: Never forget that Trudeau ha...  negative   \n",
       "4  Sorry @theJagmeetSingh I have voted #NDP all m...  positive   \n",
       "\n",
       "          negative_reason  \n",
       "0  calling election early  \n",
       "1                  covid   \n",
       "2                     NaN  \n",
       "3  calling election early  \n",
       "4                     NaN  "
      ]
     },
     "execution_count": 14,
     "metadata": {},
     "output_type": "execute_result"
    }
   ],
   "source": [
    "elections_df.head()"
   ]
  },
  {
   "cell_type": "code",
   "execution_count": 15,
   "id": "ae7c0b96",
   "metadata": {},
   "outputs": [
    {
     "data": {
      "text/plain": [
       "positive    615\n",
       "negative    387\n",
       "Name: sentiment, dtype: int64"
      ]
     },
     "execution_count": 15,
     "metadata": {},
     "output_type": "execute_result"
    }
   ],
   "source": [
    "elections_df.sentiment.value_counts()"
   ]
  },
  {
   "cell_type": "code",
   "execution_count": 16,
   "id": "014062d9",
   "metadata": {},
   "outputs": [
    {
     "data": {
      "text/plain": [
       "others                                 149\n",
       "calling election early                  73\n",
       "tell lies                               61\n",
       "covid                                   25\n",
       "economy                                 20\n",
       "gun control                             16\n",
       "climate problem                         15\n",
       "scandal                                 14\n",
       "healthcare and marijuana                 7\n",
       "women reproductive right and racism      4\n",
       "segregation                              3\n",
       "Name: negative_reason, dtype: int64"
      ]
     },
     "execution_count": 16,
     "metadata": {},
     "output_type": "execute_result"
    }
   ],
   "source": [
    "elections_df.negative_reason.value_counts()"
   ]
  },
  {
   "cell_type": "code",
   "execution_count": 17,
   "id": "f355aff1",
   "metadata": {},
   "outputs": [
    {
     "data": {
      "text/plain": [
       "(1002, 3)"
      ]
     },
     "execution_count": 17,
     "metadata": {},
     "output_type": "execute_result"
    }
   ],
   "source": [
    "elections_df.shape"
   ]
  },
  {
   "cell_type": "markdown",
   "id": "742f8a3a",
   "metadata": {},
   "source": [
    "# Data Preparation"
   ]
  },
  {
   "cell_type": "code",
   "execution_count": 18,
   "id": "324dd261",
   "metadata": {},
   "outputs": [],
   "source": [
    "# For elections_df, replacing all  'positive' and 'negative' labels with 1 and 0, respectively \n",
    "\n",
    "elections_df['sentiment'] = elections_df.apply(lambda row: 1 if row['sentiment'] == 'positive' else 0, axis = 1)"
   ]
  },
  {
   "cell_type": "code",
   "execution_count": 19,
   "id": "bb05394a",
   "metadata": {},
   "outputs": [
    {
     "data": {
      "text/html": [
       "<div>\n",
       "<style scoped>\n",
       "    .dataframe tbody tr th:only-of-type {\n",
       "        vertical-align: middle;\n",
       "    }\n",
       "\n",
       "    .dataframe tbody tr th {\n",
       "        vertical-align: top;\n",
       "    }\n",
       "\n",
       "    .dataframe thead th {\n",
       "        text-align: right;\n",
       "    }\n",
       "</style>\n",
       "<table border=\"1\" class=\"dataframe\">\n",
       "  <thead>\n",
       "    <tr style=\"text-align: right;\">\n",
       "      <th></th>\n",
       "      <th>text</th>\n",
       "      <th>sentiment</th>\n",
       "      <th>negative_reason</th>\n",
       "    </tr>\n",
       "  </thead>\n",
       "  <tbody>\n",
       "    <tr>\n",
       "      <td>0</td>\n",
       "      <td>The Canadian election is a power grab by PM Tr...</td>\n",
       "      <td>0</td>\n",
       "      <td>calling election early</td>\n",
       "    </tr>\n",
       "    <tr>\n",
       "      <td>1</td>\n",
       "      <td>I do hope Trudeau loses the Canadian election ...</td>\n",
       "      <td>0</td>\n",
       "      <td>covid</td>\n",
       "    </tr>\n",
       "    <tr>\n",
       "      <td>2</td>\n",
       "      <td>Dear Canadians, This election is a test of how...</td>\n",
       "      <td>1</td>\n",
       "      <td>NaN</td>\n",
       "    </tr>\n",
       "    <tr>\n",
       "      <td>3</td>\n",
       "      <td>Canadian friends: Never forget that Trudeau ha...</td>\n",
       "      <td>0</td>\n",
       "      <td>calling election early</td>\n",
       "    </tr>\n",
       "    <tr>\n",
       "      <td>4</td>\n",
       "      <td>Sorry @theJagmeetSingh I have voted #NDP all m...</td>\n",
       "      <td>1</td>\n",
       "      <td>NaN</td>\n",
       "    </tr>\n",
       "  </tbody>\n",
       "</table>\n",
       "</div>"
      ],
      "text/plain": [
       "                                                text  sentiment  \\\n",
       "0  The Canadian election is a power grab by PM Tr...          0   \n",
       "1  I do hope Trudeau loses the Canadian election ...          0   \n",
       "2  Dear Canadians, This election is a test of how...          1   \n",
       "3  Canadian friends: Never forget that Trudeau ha...          0   \n",
       "4  Sorry @theJagmeetSingh I have voted #NDP all m...          1   \n",
       "\n",
       "          negative_reason  \n",
       "0  calling election early  \n",
       "1                  covid   \n",
       "2                     NaN  \n",
       "3  calling election early  \n",
       "4                     NaN  "
      ]
     },
     "execution_count": 19,
     "metadata": {},
     "output_type": "execute_result"
    }
   ],
   "source": [
    "elections_df.head()"
   ]
  },
  {
   "cell_type": "code",
   "execution_count": 20,
   "id": "3ccda746",
   "metadata": {},
   "outputs": [
    {
     "data": {
      "text/plain": [
       "0       The Canadian election is a power grab by PM Tr...\n",
       "1       I do hope Trudeau loses the Canadian election ...\n",
       "2       Dear Canadians, This election is a test of how...\n",
       "3       Canadian friends: Never forget that Trudeau ha...\n",
       "4       Sorry @theJagmeetSingh I have voted #NDP all m...\n",
       "                              ...                        \n",
       "997     This is absolutely horrible in Canada. The for...\n",
       "998     @davidakin Trudeau imposes gun control policie...\n",
       "999     In Canada 🇨🇦 our election is being stolen by t...\n",
       "1000    O'Toole amends platform on gun control, but qu...\n",
       "1001    @JustinTrudeau STOP YOUR LIES, STOP YOUR MANIP...\n",
       "Name: text, Length: 1002, dtype: object"
      ]
     },
     "execution_count": 20,
     "metadata": {},
     "output_type": "execute_result"
    }
   ],
   "source": [
    "elections_df['text']"
   ]
  },
  {
   "cell_type": "code",
   "execution_count": 21,
   "id": "cec19616",
   "metadata": {},
   "outputs": [],
   "source": [
    "#removing HTML Tags attributes uting BeautifulSoup and re\n",
    "elections_df['text'] = elections_df.apply(lambda row: BeautifulSoup(row['text']).get_text(), axis = 1)\n",
    "sentiment_df['text'] = sentiment_df.apply(lambda row: BeautifulSoup(row['text']).get_text(), axis = 1)\n",
    "\n",
    "elections_df['text'] = elections_df.apply(lambda row: re.sub('<[^<]+?>', '',row['text']), axis = 1)\n",
    "sentiment_df['text'] = sentiment_df.apply(lambda row: re.sub('<[^<]+?>', '',row['text']), axis = 1)"
   ]
  },
  {
   "cell_type": "code",
   "execution_count": null,
   "id": "83dc3dec",
   "metadata": {},
   "outputs": [],
   "source": []
  },
  {
   "cell_type": "code",
   "execution_count": null,
   "id": "699e0564",
   "metadata": {},
   "outputs": [],
   "source": []
  },
  {
   "cell_type": "code",
   "execution_count": 22,
   "id": "758f8dee",
   "metadata": {},
   "outputs": [],
   "source": [
    "#Replacing HTML Character codes with ASCII equivalent\n",
    "elections_df['text'] = elections_df.apply(lambda row: ascii(row['text']), axis = 1)\n",
    "sentiment_df['text'] = sentiment_df.apply(lambda row: ascii(row['text']), axis = 1)"
   ]
  },
  {
   "cell_type": "code",
   "execution_count": null,
   "id": "fc63a900",
   "metadata": {},
   "outputs": [],
   "source": []
  },
  {
   "cell_type": "code",
   "execution_count": null,
   "id": "153b777c",
   "metadata": {},
   "outputs": [],
   "source": []
  },
  {
   "cell_type": "code",
   "execution_count": 23,
   "id": "9ef32cad",
   "metadata": {},
   "outputs": [],
   "source": [
    "#Ensuring all texts are in lower case\n",
    "elections_df['text'] = elections_df.apply(lambda row: row['text'].lower(), axis = 1)\n",
    "sentiment_df['text'] = sentiment_df.apply(lambda row: row['text'].lower(), axis = 1)"
   ]
  },
  {
   "cell_type": "code",
   "execution_count": null,
   "id": "63910110",
   "metadata": {},
   "outputs": [],
   "source": []
  },
  {
   "cell_type": "code",
   "execution_count": 24,
   "id": "e52eea5e",
   "metadata": {},
   "outputs": [
    {
     "data": {
      "text/plain": [
       "0       'the canadian election is a power grab by pm t...\n",
       "1       'i do hope trudeau loses the canadian election...\n",
       "2       'dear canadians, this election is a test of ho...\n",
       "3       'canadian friends: never forget that trudeau h...\n",
       "4       'sorry @thejagmeetsingh i have voted #ndp all ...\n",
       "                              ...                        \n",
       "997     'this is absolutely horrible in canada. the fo...\n",
       "998     '@davidakin trudeau imposes gun control polici...\n",
       "999     'in canada \\u0001f1e8\\u0001f1e6 our election i...\n",
       "1000    \"o'toole amends platform on gun control, but q...\n",
       "1001    '@justintrudeau stop your lies, stop your mani...\n",
       "Name: text, Length: 1002, dtype: object"
      ]
     },
     "execution_count": 24,
     "metadata": {},
     "output_type": "execute_result"
    }
   ],
   "source": [
    "elections_df['text']"
   ]
  },
  {
   "cell_type": "code",
   "execution_count": 25,
   "id": "3b335e2f",
   "metadata": {},
   "outputs": [],
   "source": [
    "#there are excess ' marks that need to be removed "
   ]
  },
  {
   "cell_type": "code",
   "execution_count": 26,
   "id": "37cb38a8",
   "metadata": {},
   "outputs": [],
   "source": [
    "#Removing URLs\n",
    "elections_df['text'] = elections_df.apply(lambda row: re.sub(r'^https?:\\/\\/.*[\\r\\n]*', '',row['text'], ), axis = 1)\n",
    "sentiment_df['text'] = sentiment_df.apply(lambda row: re.sub(r'^https?:\\/\\/.*[\\r\\n]*', '',row['text'], ), axis = 1)"
   ]
  },
  {
   "cell_type": "code",
   "execution_count": 27,
   "id": "795ee99e",
   "metadata": {},
   "outputs": [],
   "source": [
    "url_list = ['https://', 'www.', '.org', '.com', '.net', '/', '|', '.ca']\n",
    "for substring in url_list:\n",
    "    elections_df['text'] = elections_df['text'].apply(lambda row: row.replace(substring, ''))\n",
    "    sentiment_df['text'] = sentiment_df['text'].apply(lambda row: row.replace(substring, ''))"
   ]
  },
  {
   "cell_type": "code",
   "execution_count": 28,
   "id": "fb92c163",
   "metadata": {},
   "outputs": [
    {
     "data": {
      "text/plain": [
       "0       'the canadian election is a power grab by pm t...\n",
       "1       'i do hope trudeau loses the canadian election...\n",
       "2       'dear canadians, this election is a test of ho...\n",
       "3       'canadian friends: never forget that trudeau h...\n",
       "4       'sorry @thejagmeetsingh i have voted #ndp all ...\n",
       "                              ...                        \n",
       "997     'this is absolutely horrible in canada. the fo...\n",
       "998     '@davidakin trudeau imposes gun control polici...\n",
       "999     'in canada \\u0001f1e8\\u0001f1e6 our election i...\n",
       "1000    \"o'toole amends platform on gun control, but q...\n",
       "1001    '@justintrudeau stop your lies, stop your mani...\n",
       "Name: text, Length: 1002, dtype: object"
      ]
     },
     "execution_count": 28,
     "metadata": {},
     "output_type": "execute_result"
    }
   ],
   "source": [
    "elections_df['text']"
   ]
  },
  {
   "cell_type": "code",
   "execution_count": 29,
   "id": "8c97d328",
   "metadata": {},
   "outputs": [],
   "source": [
    "elections_df['text'] = elections_df['text'].apply(lambda row: row.replace('-', ' '))\n",
    "sentiment_df['text'] = sentiment_df['text'].apply(lambda row: row.replace('-', ' '))"
   ]
  },
  {
   "cell_type": "code",
   "execution_count": 30,
   "id": "5031608a",
   "metadata": {},
   "outputs": [],
   "source": [
    "#Removing the first quotation marks ' since there are already double quote \"\n",
    "elections_df['text'] = elections_df.apply(lambda row: row['text'][1:], axis = 1)\n",
    "sentiment_df['text'] = sentiment_df.apply(lambda row: row['text'][:-1], axis = 1)"
   ]
  },
  {
   "cell_type": "code",
   "execution_count": 31,
   "id": "b9447e6b",
   "metadata": {},
   "outputs": [],
   "source": [
    "#Removing stopwords\n",
    "stop_words = set(nltk.corpus.stopwords.words('english'))"
   ]
  },
  {
   "cell_type": "code",
   "execution_count": 32,
   "id": "735a9fcf",
   "metadata": {},
   "outputs": [
    {
     "data": {
      "text/plain": [
       "0       the canadian election is a power grab by pm tr...\n",
       "1       i do hope trudeau loses the canadian election ...\n",
       "2       dear canadians, this election is a test of how...\n",
       "3       canadian friends: never forget that trudeau ha...\n",
       "4       sorry @thejagmeetsingh i have voted #ndp all m...\n",
       "                              ...                        \n",
       "997     this is absolutely horrible in canada. the for...\n",
       "998     @davidakin trudeau imposes gun control policie...\n",
       "999     in canada \\u0001f1e8\\u0001f1e6 our election is...\n",
       "1000    o'toole amends platform on gun control, but qu...\n",
       "1001    @justintrudeau stop your lies, stop your manip...\n",
       "Name: text, Length: 1002, dtype: object"
      ]
     },
     "execution_count": 32,
     "metadata": {},
     "output_type": "execute_result"
    }
   ],
   "source": [
    "elections_df['text']"
   ]
  },
  {
   "cell_type": "code",
   "execution_count": 33,
   "id": "ee3d81c6",
   "metadata": {},
   "outputs": [],
   "source": [
    "elections_df['text'] = elections_df['text'].apply(lambda row: ' '.join([word for word in row.split() if word not in (stop_words)]))\n",
    "sentiment_df['text'] = sentiment_df['text'].apply(lambda row: ' '.join([word for word in row.split() if word not in (stop_words)]))"
   ]
  },
  {
   "cell_type": "code",
   "execution_count": 34,
   "id": "d48f5dec",
   "metadata": {},
   "outputs": [
    {
     "data": {
      "text/plain": [
       "0       canadian election power grab pm trudeau, yes t...\n",
       "1       hope trudeau loses canadian election tomorrow ...\n",
       "2       dear canadians, election test progressive are....\n",
       "3       canadian friends: never forget trudeau 2 years...\n",
       "4       sorry @thejagmeetsingh voted #ndp life electio...\n",
       "                              ...                        \n",
       "997     absolutely horrible canada. forthcoming electi...\n",
       "998     @davidakin trudeau imposes gun control policie...\n",
       "999     canada \\u0001f1e8\\u0001f1e6 election stolen th...\n",
       "1000    o'toole amends platform gun control, questions...\n",
       "1001    @justintrudeau stop lies, stop manipulation, s...\n",
       "Name: text, Length: 1002, dtype: object"
      ]
     },
     "execution_count": 34,
     "metadata": {},
     "output_type": "execute_result"
    }
   ],
   "source": [
    "elections_df['text']"
   ]
  },
  {
   "cell_type": "code",
   "execution_count": 35,
   "id": "764b11ee",
   "metadata": {},
   "outputs": [
    {
     "data": {
      "text/plain": [
       "\"canadian election power grab pm trudeau, yes take away opposition leaders chosen obstruction (20 non confidence motions) disinformation middle worldwide pandemic. yes, one wanted vote; opposition antics forced it.'\""
      ]
     },
     "execution_count": 35,
     "metadata": {},
     "output_type": "execute_result"
    }
   ],
   "source": [
    "elections_df['text'].iloc[0]"
   ]
  },
  {
   "cell_type": "code",
   "execution_count": 36,
   "id": "4f8ec5ef",
   "metadata": {},
   "outputs": [],
   "source": [
    "#lemmatizastion to simplify the words when possible\n",
    "lemm = WordNetLemmatizer()"
   ]
  },
  {
   "cell_type": "code",
   "execution_count": 37,
   "id": "c7738f9c",
   "metadata": {},
   "outputs": [],
   "source": [
    "elections_df['text'] = elections_df['text'].apply(lambda row: ' '.join([lemm.lemmatize(word) for word in row.split()]))\n",
    "sentiment_df['text'] = sentiment_df['text'].apply(lambda row: ' '.join([lemm.lemmatize(word) for word in row.split()]))"
   ]
  },
  {
   "cell_type": "code",
   "execution_count": 38,
   "id": "01dac918",
   "metadata": {},
   "outputs": [
    {
     "data": {
      "text/plain": [
       "\"canadian election power grab pm trudeau, yes take away opposition leader chosen obstruction (20 non confidence motions) disinformation middle worldwide pandemic. yes, one wanted vote; opposition antic forced it.'\""
      ]
     },
     "execution_count": 38,
     "metadata": {},
     "output_type": "execute_result"
    }
   ],
   "source": [
    "elections_df['text'].iloc[0]"
   ]
  },
  {
   "cell_type": "code",
   "execution_count": 39,
   "id": "b6592788",
   "metadata": {},
   "outputs": [
    {
     "data": {
      "text/plain": [
       "\"hope trudeau loses canadian election tomorrow , called snap one thinking he\\\\u2019d romp it.. seems people don\\\\u2019t like black face hypocrite, super wokist & covid restriction groupie.. let\\\\u2019s hope poll right, might make government think again.'\""
      ]
     },
     "execution_count": 39,
     "metadata": {},
     "output_type": "execute_result"
    }
   ],
   "source": [
    "elections_df['text'].iloc[1]"
   ]
  },
  {
   "cell_type": "code",
   "execution_count": 40,
   "id": "52c358d1",
   "metadata": {},
   "outputs": [],
   "source": [
    "sia = SentimentIntensityAnalyzer()"
   ]
  },
  {
   "cell_type": "code",
   "execution_count": 41,
   "id": "ba58dc39",
   "metadata": {},
   "outputs": [],
   "source": [
    "elections_df['NLTK_polarity'] = elections_df['text'].apply(lambda text: sia.polarity_scores(text))\n",
    "sentiment_df['NLTK_polarity'] = sentiment_df['text'].apply(lambda text: sia.polarity_scores(text))\n"
   ]
  },
  {
   "cell_type": "code",
   "execution_count": 42,
   "id": "13b20ef6",
   "metadata": {},
   "outputs": [
    {
     "data": {
      "text/html": [
       "<div>\n",
       "<style scoped>\n",
       "    .dataframe tbody tr th:only-of-type {\n",
       "        vertical-align: middle;\n",
       "    }\n",
       "\n",
       "    .dataframe tbody tr th {\n",
       "        vertical-align: top;\n",
       "    }\n",
       "\n",
       "    .dataframe thead th {\n",
       "        text-align: right;\n",
       "    }\n",
       "</style>\n",
       "<table border=\"1\" class=\"dataframe\">\n",
       "  <thead>\n",
       "    <tr style=\"text-align: right;\">\n",
       "      <th></th>\n",
       "      <th>text</th>\n",
       "      <th>sentiment</th>\n",
       "      <th>negative_reason</th>\n",
       "      <th>NLTK_polarity</th>\n",
       "    </tr>\n",
       "  </thead>\n",
       "  <tbody>\n",
       "    <tr>\n",
       "      <td>0</td>\n",
       "      <td>canadian election power grab pm trudeau, yes t...</td>\n",
       "      <td>0</td>\n",
       "      <td>calling election early</td>\n",
       "      <td>{'neg': 0.082, 'neu': 0.681, 'pos': 0.237, 'co...</td>\n",
       "    </tr>\n",
       "    <tr>\n",
       "      <td>1</td>\n",
       "      <td>hope trudeau loses canadian election tomorrow ...</td>\n",
       "      <td>0</td>\n",
       "      <td>covid</td>\n",
       "      <td>{'neg': 0.099, 'neu': 0.628, 'pos': 0.274, 'co...</td>\n",
       "    </tr>\n",
       "    <tr>\n",
       "      <td>2</td>\n",
       "      <td>dear canadians, election test progressive are....</td>\n",
       "      <td>1</td>\n",
       "      <td>NaN</td>\n",
       "      <td>{'neg': 0.188, 'neu': 0.735, 'pos': 0.076, 'co...</td>\n",
       "    </tr>\n",
       "    <tr>\n",
       "      <td>3</td>\n",
       "      <td>canadian friends: never forget trudeau 2 year ...</td>\n",
       "      <td>0</td>\n",
       "      <td>calling election early</td>\n",
       "      <td>{'neg': 0.0, 'neu': 0.828, 'pos': 0.172, 'comp...</td>\n",
       "    </tr>\n",
       "    <tr>\n",
       "      <td>4</td>\n",
       "      <td>sorry @thejagmeetsingh voted #ndp life electio...</td>\n",
       "      <td>1</td>\n",
       "      <td>NaN</td>\n",
       "      <td>{'neg': 0.141, 'neu': 0.704, 'pos': 0.156, 'co...</td>\n",
       "    </tr>\n",
       "  </tbody>\n",
       "</table>\n",
       "</div>"
      ],
      "text/plain": [
       "                                                text  sentiment  \\\n",
       "0  canadian election power grab pm trudeau, yes t...          0   \n",
       "1  hope trudeau loses canadian election tomorrow ...          0   \n",
       "2  dear canadians, election test progressive are....          1   \n",
       "3  canadian friends: never forget trudeau 2 year ...          0   \n",
       "4  sorry @thejagmeetsingh voted #ndp life electio...          1   \n",
       "\n",
       "          negative_reason                                      NLTK_polarity  \n",
       "0  calling election early  {'neg': 0.082, 'neu': 0.681, 'pos': 0.237, 'co...  \n",
       "1                  covid   {'neg': 0.099, 'neu': 0.628, 'pos': 0.274, 'co...  \n",
       "2                     NaN  {'neg': 0.188, 'neu': 0.735, 'pos': 0.076, 'co...  \n",
       "3  calling election early  {'neg': 0.0, 'neu': 0.828, 'pos': 0.172, 'comp...  \n",
       "4                     NaN  {'neg': 0.141, 'neu': 0.704, 'pos': 0.156, 'co...  "
      ]
     },
     "execution_count": 42,
     "metadata": {},
     "output_type": "execute_result"
    }
   ],
   "source": [
    "elections_df.head()"
   ]
  },
  {
   "cell_type": "code",
   "execution_count": 43,
   "id": "eb1860e7",
   "metadata": {},
   "outputs": [],
   "source": [
    "#dropping column id\n",
    "sentiment_df.drop(labels = ['ID'], axis = 1, inplace = True)"
   ]
  },
  {
   "cell_type": "markdown",
   "id": "5c0ceeff",
   "metadata": {},
   "source": [
    "# Exploratory analysis"
   ]
  },
  {
   "cell_type": "code",
   "execution_count": 44,
   "id": "4ef1bdf7",
   "metadata": {},
   "outputs": [
    {
     "data": {
      "image/png": "[encoded data removed]",
      "text/plain": [
       "<Figure size 432x288 with 1 Axes>"
      ]
     },
     "metadata": {
      "needs_background": "light"
     },
     "output_type": "display_data"
    }
   ],
   "source": [
    "#sentiment in general\n",
    "sentiment_df.hist()\n",
    "plt.gcf()\n",
    "plt.xlabel(\"label\")\n",
    "plt.ylabel('count')\n",
    "plt.title(\"General sentiment\")\n",
    "plt.show()"
   ]
  },
  {
   "cell_type": "code",
   "execution_count": 45,
   "id": "feaf6454",
   "metadata": {},
   "outputs": [
    {
     "data": {
      "image/png": "[encoded data removed]",
      "text/plain": [
       "<Figure size 432x288 with 1 Axes>"
      ]
     },
     "metadata": {
      "needs_background": "light"
     },
     "output_type": "display_data"
    }
   ],
   "source": [
    "elections_df.hist()\n",
    "plt.gcf()\n",
    "plt.xlabel(\"label\")\n",
    "plt.ylabel('count')\n",
    "plt.title(\"Election general sentiment\")\n",
    "plt.show()"
   ]
  },
  {
   "cell_type": "code",
   "execution_count": 46,
   "id": "4a101fd8",
   "metadata": {},
   "outputs": [],
   "source": [
    "#Key terms for NDP: Singh, Jagmeet, ndp\n",
    "ndp_search = ['ndp', 'singh', 'jagmeet']\n",
    "ndp_sentiment_df = sentiment_df[sentiment_df['text'].str.contains('|'.join(ndp_search))]\n",
    "ndp_elections_df = elections_df[elections_df['text'].str.contains('|'.join(ndp_search))]"
   ]
  },
  {
   "cell_type": "code",
   "execution_count": 47,
   "id": "85a766b0",
   "metadata": {},
   "outputs": [
    {
     "data": {
      "text/plain": [
       "1    747\n",
       "0    340\n",
       "Name: label, dtype: int64"
      ]
     },
     "execution_count": 47,
     "metadata": {},
     "output_type": "execute_result"
    }
   ],
   "source": [
    "ndp_sentiment_df.label.value_counts()"
   ]
  },
  {
   "cell_type": "code",
   "execution_count": 48,
   "id": "4ae233af",
   "metadata": {},
   "outputs": [
    {
     "data": {
      "image/png": "[encoded data removed]",
      "text/plain": [
       "<Figure size 432x288 with 1 Axes>"
      ]
     },
     "metadata": {
      "needs_background": "light"
     },
     "output_type": "display_data"
    }
   ],
   "source": [
    "ndp_sentiment_df.hist()\n",
    "plt.gcf()\n",
    "plt.xlabel(\"label\")\n",
    "plt.ylabel('count')\n",
    "plt.title(\"Sentiment for NDP\")\n",
    "plt.show()"
   ]
  },
  {
   "cell_type": "code",
   "execution_count": 49,
   "id": "f33c31e8",
   "metadata": {},
   "outputs": [
    {
     "data": {
      "image/png": "[encoded data removed]",
      "text/plain": [
       "<Figure size 432x288 with 1 Axes>"
      ]
     },
     "metadata": {
      "needs_background": "light"
     },
     "output_type": "display_data"
    }
   ],
   "source": [
    "ndp_elections_df.hist()\n",
    "plt.gcf()\n",
    "plt.xlabel(\"label\")\n",
    "plt.ylabel('count')\n",
    "plt.title(\"Sentiment for NDP\")\n",
    "plt.show()"
   ]
  },
  {
   "cell_type": "code",
   "execution_count": 50,
   "id": "2eff8eb7",
   "metadata": {},
   "outputs": [],
   "source": [
    "#key terms for Conservatives: Toole, conservatives, cons, erin"
   ]
  },
  {
   "cell_type": "code",
   "execution_count": 51,
   "id": "af7dbd07",
   "metadata": {},
   "outputs": [],
   "source": [
    "cons_search = ['toole', 'conservatives', 'cons', 'erin', 'cpc']\n",
    "\n",
    "cons_sentiment_df = sentiment_df[sentiment_df['text'].str.contains('|'.join(cons_search))]\n",
    "cons_elections_df = elections_df[elections_df['text'].str.contains('|'.join(cons_search))]"
   ]
  },
  {
   "cell_type": "code",
   "execution_count": 52,
   "id": "fa76308d",
   "metadata": {},
   "outputs": [
    {
     "data": {
      "image/png": "[encoded data removed]",
      "text/plain": [
       "<Figure size 432x288 with 1 Axes>"
      ]
     },
     "metadata": {
      "needs_background": "light"
     },
     "output_type": "display_data"
    }
   ],
   "source": [
    "cons_sentiment_df.hist()\n",
    "plt.gcf()\n",
    "plt.xlabel(\"label\")\n",
    "plt.ylabel('count')\n",
    "plt.title(\"Sentiment for CPC\")\n",
    "plt.show()"
   ]
  },
  {
   "cell_type": "code",
   "execution_count": 53,
   "id": "46836b28",
   "metadata": {},
   "outputs": [
    {
     "data": {
      "image/png": "[encoded data removed]",
      "text/plain": [
       "<Figure size 432x288 with 1 Axes>"
      ]
     },
     "metadata": {
      "needs_background": "light"
     },
     "output_type": "display_data"
    }
   ],
   "source": [
    "cons_elections_df.hist()\n",
    "plt.gcf()\n",
    "plt.xlabel(\"label\")\n",
    "plt.ylabel('count')\n",
    "plt.title(\"Sentiment for CPC\")\n",
    "plt.show()"
   ]
  },
  {
   "cell_type": "code",
   "execution_count": 54,
   "id": "4fccefa5",
   "metadata": {},
   "outputs": [],
   "source": [
    "#key terms for liberals: trudeau, justin, liberal, liberals"
   ]
  },
  {
   "cell_type": "code",
   "execution_count": 55,
   "id": "e136f27e",
   "metadata": {},
   "outputs": [],
   "source": [
    "liberals_search = ['trudeau', 'justin', 'liberal', 'lpc', 'liberals']\n",
    "\n",
    "liberals_sentiment_df = sentiment_df[sentiment_df['text'].str.contains('|'.join(liberals_search))]\n",
    "liberals_elections_df = elections_df[elections_df['text'].str.contains('|'.join(liberals_search))]"
   ]
  },
  {
   "cell_type": "code",
   "execution_count": 56,
   "id": "2e84bc3a",
   "metadata": {},
   "outputs": [
    {
     "data": {
      "image/png": "[encoded data removed]",
      "text/plain": [
       "<Figure size 432x288 with 1 Axes>"
      ]
     },
     "metadata": {
      "needs_background": "light"
     },
     "output_type": "display_data"
    }
   ],
   "source": [
    "liberals_sentiment_df.hist()\n",
    "plt.gcf()\n",
    "plt.xlabel(\"label\")\n",
    "plt.ylabel('count')\n",
    "plt.title(\"Sentiment for LPC\")\n",
    "plt.show()"
   ]
  },
  {
   "cell_type": "code",
   "execution_count": 57,
   "id": "3bc21421",
   "metadata": {},
   "outputs": [
    {
     "data": {
      "image/png": "[encoded data removed]",
      "text/plain": [
       "<Figure size 432x288 with 1 Axes>"
      ]
     },
     "metadata": {
      "needs_background": "light"
     },
     "output_type": "display_data"
    }
   ],
   "source": [
    "liberals_elections_df.hist()\n",
    "plt.gcf()\n",
    "plt.xlabel(\"label\")\n",
    "plt.ylabel('count')\n",
    "plt.title(\"Sentiment for LPC\")\n",
    "plt.show()"
   ]
  },
  {
   "cell_type": "code",
   "execution_count": 58,
   "id": "7ed30e48",
   "metadata": {},
   "outputs": [],
   "source": [
    "#key terms for PPC: ppc, maxime, bernier"
   ]
  },
  {
   "cell_type": "code",
   "execution_count": 59,
   "id": "bf4e938b",
   "metadata": {},
   "outputs": [],
   "source": [
    "ppc_search = ['ppc', 'maxime', 'bernier']\n",
    "\n",
    "ppc_sentiment_df = sentiment_df[sentiment_df['text'].str.contains('|'.join(ppc_search))]\n",
    "ppc_elections_df = elections_df[elections_df['text'].str.contains('|'.join(ppc_search))]"
   ]
  },
  {
   "cell_type": "code",
   "execution_count": 60,
   "id": "8a6dcd98",
   "metadata": {},
   "outputs": [
    {
     "data": {
      "image/png": "[encoded data removed]",
      "text/plain": [
       "<Figure size 432x288 with 1 Axes>"
      ]
     },
     "metadata": {
      "needs_background": "light"
     },
     "output_type": "display_data"
    }
   ],
   "source": [
    "ppc_sentiment_df.hist()\n",
    "plt.gcf()\n",
    "plt.xlabel(\"label\")\n",
    "plt.ylabel('count')\n",
    "plt.title(\"Sentiment for PPC\")\n",
    "plt.show()"
   ]
  },
  {
   "cell_type": "code",
   "execution_count": 61,
   "id": "93dca753",
   "metadata": {},
   "outputs": [
    {
     "data": {
      "image/png": "[encoded data removed]",
      "text/plain": [
       "<Figure size 432x288 with 1 Axes>"
      ]
     },
     "metadata": {
      "needs_background": "light"
     },
     "output_type": "display_data"
    }
   ],
   "source": [
    "ppc_elections_df.hist()\n",
    "plt.gcf()\n",
    "plt.xlabel(\"label\")\n",
    "plt.ylabel('count')\n",
    "plt.title(\"Sentiment for PPC\")\n",
    "plt.show()"
   ]
  },
  {
   "cell_type": "code",
   "execution_count": 62,
   "id": "eabfb08b",
   "metadata": {},
   "outputs": [],
   "source": [
    "#key terms for BQ: bloc, quebecois, yves, blanchet, bq"
   ]
  },
  {
   "cell_type": "code",
   "execution_count": 63,
   "id": "8102c1c1",
   "metadata": {},
   "outputs": [],
   "source": [
    "bloc_search = ['bloc', 'quebecois', 'yves', 'blanchet', 'bq']\n",
    "\n",
    "bloc_sentiment_df = sentiment_df[sentiment_df['text'].str.contains('|'.join(bloc_search))]\n",
    "bloc_elections_df = elections_df[elections_df['text'].str.contains('|'.join(bloc_search))]"
   ]
  },
  {
   "cell_type": "code",
   "execution_count": 64,
   "id": "75d90035",
   "metadata": {},
   "outputs": [
    {
     "data": {
      "image/png": "[encoded data removed]",
      "text/plain": [
       "<Figure size 432x288 with 1 Axes>"
      ]
     },
     "metadata": {
      "needs_background": "light"
     },
     "output_type": "display_data"
    }
   ],
   "source": [
    "bloc_sentiment_df.hist()\n",
    "plt.gcf()\n",
    "plt.xlabel(\"label\")\n",
    "plt.ylabel('count')\n",
    "plt.title(\"Sentiment for BQ\")\n",
    "plt.show()"
   ]
  },
  {
   "cell_type": "code",
   "execution_count": 65,
   "id": "36dea0cc",
   "metadata": {},
   "outputs": [
    {
     "data": {
      "image/png": "[encoded data removed]",
      "text/plain": [
       "<Figure size 432x288 with 1 Axes>"
      ]
     },
     "metadata": {
      "needs_background": "light"
     },
     "output_type": "display_data"
    }
   ],
   "source": [
    "bloc_elections_df.hist()\n",
    "plt.gcf()\n",
    "plt.xlabel(\"label\")\n",
    "plt.ylabel('count')\n",
    "plt.title(\"Sentiment for BQ\")\n",
    "plt.show()"
   ]
  },
  {
   "cell_type": "code",
   "execution_count": 66,
   "id": "10793432",
   "metadata": {},
   "outputs": [],
   "source": [
    "#key terms for Green: green, greens, paul, annemarie"
   ]
  },
  {
   "cell_type": "code",
   "execution_count": 67,
   "id": "4cfa4c71",
   "metadata": {},
   "outputs": [],
   "source": [
    "green_search = ['green', 'greens', 'paul', 'annemarie']\n",
    "\n",
    "green_sentiment_df = sentiment_df[sentiment_df['text'].str.contains('|'.join(green_search))]\n",
    "green_elections_df = elections_df[elections_df['text'].str.contains('|'.join(green_search))]"
   ]
  },
  {
   "cell_type": "code",
   "execution_count": 68,
   "id": "0c03801c",
   "metadata": {},
   "outputs": [
    {
     "data": {
      "image/png": "[encoded data removed]",
      "text/plain": [
       "<Figure size 432x288 with 1 Axes>"
      ]
     },
     "metadata": {
      "needs_background": "light"
     },
     "output_type": "display_data"
    }
   ],
   "source": [
    "green_sentiment_df.hist()\n",
    "plt.gcf()\n",
    "plt.xlabel(\"label\")\n",
    "plt.ylabel('count')\n",
    "plt.title(\"Sentiment for Green\")\n",
    "plt.show()"
   ]
  },
  {
   "cell_type": "code",
   "execution_count": 69,
   "id": "a8b309a8",
   "metadata": {},
   "outputs": [
    {
     "data": {
      "image/png": "[encoded data removed]",
      "text/plain": [
       "<Figure size 432x288 with 1 Axes>"
      ]
     },
     "metadata": {
      "needs_background": "light"
     },
     "output_type": "display_data"
    }
   ],
   "source": [
    "green_elections_df.hist()\n",
    "plt.gcf()\n",
    "plt.xlabel(\"label\")\n",
    "plt.ylabel('count')\n",
    "plt.title(\"Sentiment for Green\")\n",
    "plt.show()"
   ]
  },
  {
   "cell_type": "markdown",
   "id": "1a0dd06a-fa69-485b-a099-d82f85652d00",
   "metadata": {},
   "source": [
    "## Notes\n",
    "\n",
    "Overall, I noticed that the sentiment tends to be towards label 1. I would not be surprised if the models would be more biased towards making predictions iwth label 1"
   ]
  },
  {
   "cell_type": "markdown",
   "id": "52ced25b",
   "metadata": {},
   "source": [
    "# Model preparation"
   ]
  },
  {
   "cell_type": "code",
   "execution_count": 70,
   "id": "998eddd4",
   "metadata": {},
   "outputs": [],
   "source": [
    "sentiment_df_text = sentiment_df['text'].values\n",
    "elections_df_text = elections_df['text'].values"
   ]
  },
  {
   "cell_type": "code",
   "execution_count": 71,
   "id": "a9f475c9",
   "metadata": {},
   "outputs": [],
   "source": [
    "tokenizer = RegexpTokenizer(r'\\w+|\\$[\\d\\.]+|\\S+')"
   ]
  },
  {
   "cell_type": "code",
   "execution_count": 72,
   "id": "5681ddfb",
   "metadata": {},
   "outputs": [],
   "source": [
    "#preparing all the data for the count vectorizer.\n",
    "#Note that the corpus is combining both sentiment and elections to ensure all words are properly vectorized \n",
    "\n",
    "vectorizer = CountVectorizer(tokenizer = tokenizer.tokenize, stop_words = 'english', analyzer = 'word')"
   ]
  },
  {
   "cell_type": "code",
   "execution_count": 73,
   "id": "203877e7",
   "metadata": {},
   "outputs": [],
   "source": [
    "corpus = np.concatenate((sentiment_df_text, elections_df_text), axis = None)"
   ]
  },
  {
   "cell_type": "code",
   "execution_count": 74,
   "id": "9faff1df",
   "metadata": {},
   "outputs": [
    {
     "data": {
      "text/plain": [
       "<551393x1135719 sparse matrix of type '<class 'numpy.int64'>'\n",
       "\twith 6028566 stored elements in Compressed Sparse Row format>"
      ]
     },
     "execution_count": 74,
     "metadata": {},
     "output_type": "execute_result"
    }
   ],
   "source": [
    "vectorizer.fit_transform(corpus)"
   ]
  },
  {
   "cell_type": "code",
   "execution_count": 75,
   "id": "8f2bce00",
   "metadata": {},
   "outputs": [],
   "source": [
    "elections_countvec_transform = vectorizer.transform(elections_df['text'])"
   ]
  },
  {
   "cell_type": "code",
   "execution_count": 76,
   "id": "26c94988",
   "metadata": {},
   "outputs": [],
   "source": [
    "sentiment_countvec_transform = vectorizer.transform(sentiment_df['text'])"
   ]
  },
  {
   "cell_type": "code",
   "execution_count": 77,
   "id": "c9998b55",
   "metadata": {},
   "outputs": [],
   "source": [
    "#preparing all the data for the idf vectorizer"
   ]
  },
  {
   "cell_type": "code",
   "execution_count": 78,
   "id": "04e655aa",
   "metadata": {},
   "outputs": [],
   "source": [
    "idf_vectorizer = TfidfVectorizer(tokenizer = tokenizer.tokenize, stop_words = 'english', analyzer = 'word')"
   ]
  },
  {
   "cell_type": "code",
   "execution_count": 79,
   "id": "f5723340",
   "metadata": {},
   "outputs": [
    {
     "data": {
      "text/plain": [
       "<551393x1135719 sparse matrix of type '<class 'numpy.float64'>'\n",
       "\twith 6028566 stored elements in Compressed Sparse Row format>"
      ]
     },
     "execution_count": 79,
     "metadata": {},
     "output_type": "execute_result"
    }
   ],
   "source": [
    "idf_vectorizer.fit_transform(corpus)"
   ]
  },
  {
   "cell_type": "code",
   "execution_count": 80,
   "id": "9aa4dba7",
   "metadata": {},
   "outputs": [],
   "source": [
    "elections_idf_vect_transform = idf_vectorizer.transform(elections_df['text'])"
   ]
  },
  {
   "cell_type": "code",
   "execution_count": 81,
   "id": "d31346ed",
   "metadata": {},
   "outputs": [],
   "source": [
    "sentiment_idf_vect_transform = idf_vectorizer.transform(sentiment_df['text'])"
   ]
  },
  {
   "cell_type": "markdown",
   "id": "bede3684",
   "metadata": {},
   "source": [
    "# splitting the data "
   ]
  },
  {
   "cell_type": "code",
   "execution_count": 82,
   "id": "de7dfb2f",
   "metadata": {},
   "outputs": [],
   "source": [
    "train_indices = None\n",
    "test_indices = None"
   ]
  },
  {
   "cell_type": "code",
   "execution_count": 83,
   "id": "2c55cade",
   "metadata": {},
   "outputs": [],
   "source": [
    "splitter = ShuffleSplit(n_splits = 1, test_size = 0.30, random_state = 42)"
   ]
  },
  {
   "cell_type": "code",
   "execution_count": 84,
   "id": "f1ae6758",
   "metadata": {},
   "outputs": [],
   "source": [
    "for train_index, test_index in splitter.split(sentiment_df):\n",
    "    train_indices = train_index\n",
    "    test_indices = test_index\n",
    "    "
   ]
  },
  {
   "cell_type": "code",
   "execution_count": 85,
   "id": "fa6c1f8a",
   "metadata": {},
   "outputs": [
    {
     "data": {
      "text/plain": [
       "array([516742, 136087, 106201, ..., 365838, 131932, 121958])"
      ]
     },
     "execution_count": 85,
     "metadata": {},
     "output_type": "execute_result"
    }
   ],
   "source": [
    "train_indices"
   ]
  },
  {
   "cell_type": "code",
   "execution_count": 86,
   "id": "b568548f",
   "metadata": {},
   "outputs": [
    {
     "data": {
      "text/plain": [
       "array([354901, 312571, 275555, ..., 243831,  48763, 295355])"
      ]
     },
     "execution_count": 86,
     "metadata": {},
     "output_type": "execute_result"
    }
   ],
   "source": [
    "test_indices"
   ]
  },
  {
   "cell_type": "markdown",
   "id": "bed2cb4c",
   "metadata": {},
   "source": [
    "# Preparing the models for bag-of-words"
   ]
  },
  {
   "cell_type": "code",
   "execution_count": 87,
   "id": "c5038adb",
   "metadata": {},
   "outputs": [],
   "source": [
    "x_train_countvec = sentiment_countvec_transform[train_indices]\n",
    "y_train_countvec = sentiment_df['label'].values[train_indices]\n",
    "\n",
    "x_test_countvec = sentiment_countvec_transform[test_indices]\n",
    "y_test_countvec = sentiment_df['label'].values[test_indices]"
   ]
  },
  {
   "cell_type": "code",
   "execution_count": 88,
   "id": "c0252223",
   "metadata": {},
   "outputs": [
    {
     "name": "stdout",
     "output_type": "stream",
     "text": [
      "Logistic Regression results\n",
      "Accuracy: 0.9771920687023825\n",
      "F1 score: 0.9830747658511154\n",
      "AUC: 0.9747024163696764\n"
     ]
    }
   ],
   "source": [
    "#logistic regression\n",
    "lr_countvec = LogisticRegression(n_jobs = -1)\n",
    "\n",
    "lr_countvec.fit(x_train_countvec, y_train_countvec)\n",
    "\n",
    "lr_countvec_predict = lr_countvec.predict(x_test_countvec)\n",
    "\n",
    "lr_countvec_f1 = f1_score(y_test_countvec, lr_countvec_predict)\n",
    "lr_countvec_accuracy = accuracy_score(y_test_countvec, lr_countvec_predict)\n",
    "lr_countvec_auc = roc_auc_score(y_test_countvec, lr_countvec_predict)\n",
    "\n",
    "print(\"Logistic Regression results\")\n",
    "print(\"Accuracy: \" + str(lr_countvec_accuracy))\n",
    "print(\"F1 score: \" + str(lr_countvec_f1))\n",
    "print(\"AUC: \" + str(lr_countvec_auc))"
   ]
  },
  {
   "cell_type": "code",
   "execution_count": 89,
   "id": "5966ff24",
   "metadata": {},
   "outputs": [
    {
     "name": "stdout",
     "output_type": "stream",
     "text": [
      "KNN classifier results\n",
      "Accuracy: 0.8900241039741276\n",
      "F1 score: 0.9169483230961321\n",
      "AUC: 0.8847249207968557\n"
     ]
    }
   ],
   "source": [
    "#k-NN\n",
    "\n",
    "knn_countvec = KNeighborsClassifier(n_jobs = -1)\n",
    "\n",
    "knn_countvec.fit(x_train_countvec, y_train_countvec)\n",
    "\n",
    "knn_countvec_predict = knn_countvec.predict(x_test_countvec)\n",
    "\n",
    "knn_countvec_f1 = f1_score(y_test_countvec, knn_countvec_predict)\n",
    "knn_countvec_accuracy = accuracy_score(y_test_countvec, knn_countvec_predict)\n",
    "knn_countvec_auc = roc_auc_score(y_test_countvec, knn_countvec_predict)\n",
    "\n",
    "print(\"KNN classifier results\")\n",
    "print(\"Accuracy: \" + str(knn_countvec_accuracy))\n",
    "print(\"F1 score: \" + str(knn_countvec_f1))\n",
    "print(\"AUC: \" + str(knn_countvec_auc))"
   ]
  },
  {
   "cell_type": "code",
   "execution_count": 90,
   "id": "cb74999a",
   "metadata": {},
   "outputs": [
    {
     "name": "stdout",
     "output_type": "stream",
     "text": [
      "Naive Bayes results\n",
      "Accuracy: 0.9522099347133565\n",
      "F1 score: 0.9650938012854824\n",
      "AUC: 0.9376843020186879\n"
     ]
    }
   ],
   "source": [
    "#Naive Bayes (MultinomialNB)\n",
    "\n",
    "nb_countvec = MultinomialNB()\n",
    "\n",
    "nb_countvec.fit(x_train_countvec, y_train_countvec)\n",
    "\n",
    "nb_countvec_predict = nb_countvec.predict(x_test_countvec)\n",
    "\n",
    "nb_countvec_f1 = f1_score(y_test_countvec, nb_countvec_predict)\n",
    "nb_countvec_accuracy = accuracy_score(y_test_countvec, nb_countvec_predict)\n",
    "nb_countvec_auc = roc_auc_score(y_test_countvec, nb_countvec_predict)\n",
    "print(\"Naive Bayes results\")\n",
    "print(\"Accuracy: \" + str(nb_countvec_accuracy))\n",
    "print(\"F1 score: \" + str(nb_countvec_f1))\n",
    "print(\"AUC: \" + str(nb_countvec_auc))"
   ]
  },
  {
   "cell_type": "code",
   "execution_count": 91,
   "id": "ac029a09",
   "metadata": {},
   "outputs": [
    {
     "name": "stdout",
     "output_type": "stream",
     "text": [
      "SVM Classifier results\n",
      "Accuracy: 0.9784578301578265\n",
      "F1 score: 0.9840119741638536\n",
      "AUC: 0.9762139173181762\n"
     ]
    }
   ],
   "source": [
    "#SVM -> outlier detection\n",
    "\n",
    "svc_countvec = LinearSVC()\n",
    "\n",
    "svc_countvec.fit(x_train_countvec, y_train_countvec)\n",
    "\n",
    "svc_countvec_predict = svc_countvec.predict(x_test_countvec)\n",
    "\n",
    "svc_countvec_f1 = f1_score(y_test_countvec, svc_countvec_predict)\n",
    "svc_countvec_accuracy = accuracy_score(y_test_countvec, svc_countvec_predict)\n",
    "svc_countvec_auc = roc_auc_score(y_test_countvec, svc_countvec_predict)\n",
    "\n",
    "print(\"SVM Classifier results\")\n",
    "print(\"Accuracy: \" + str(svc_countvec_accuracy))\n",
    "print(\"F1 score: \" + str(svc_countvec_f1))\n",
    "print(\"AUC: \" + str(svc_countvec_auc))\n"
   ]
  },
  {
   "cell_type": "code",
   "execution_count": 92,
   "id": "e0f1e6a2",
   "metadata": {},
   "outputs": [
    {
     "name": "stdout",
     "output_type": "stream",
     "text": [
      "Decision tree results\n",
      "Accuracy: 0.9532455577223561\n",
      "F1 score: 0.9654295335673856\n",
      "AUC: 0.9454916240556854\n"
     ]
    }
   ],
   "source": [
    "#decision trees\n",
    "tree_countvec = DecisionTreeClassifier()\n",
    "\n",
    "tree_countvec.fit(x_train_countvec, y_train_countvec)\n",
    "\n",
    "tree_countvec_predict = tree_countvec.predict(x_test_countvec)\n",
    "\n",
    "tree_countvec_f1 = f1_score(y_test_countvec, tree_countvec_predict)\n",
    "tree_countvec_accuracy = accuracy_score(y_test_countvec, tree_countvec_predict)\n",
    "tree_countvec_auc = roc_auc_score(y_test_countvec, tree_countvec_predict)\n",
    "\n",
    "print(\"Decision tree results\")\n",
    "print(\"Accuracy: \" + str(tree_countvec_accuracy))\n",
    "print(\"F1 score: \" + str(tree_countvec_f1))\n",
    "print(\"AUC: \" + str(tree_countvec_auc))"
   ]
  },
  {
   "cell_type": "code",
   "execution_count": 93,
   "id": "2df1678b",
   "metadata": {},
   "outputs": [
    {
     "name": "stdout",
     "output_type": "stream",
     "text": [
      "Random Forest results\n",
      "Accuracy: 0.9407878002398284\n",
      "F1 score: 0.9558083718659741\n",
      "AUC: 0.9362924434229916\n"
     ]
    }
   ],
   "source": [
    "#random forest\n",
    "rf_countvec = RandomForestClassifier(n_jobs = -1)\n",
    "\n",
    "rf_countvec.fit(x_train_countvec, y_train_countvec)\n",
    "\n",
    "rf_countvec_predict = rf_countvec.predict(x_test_countvec)\n",
    "\n",
    "rf_countvec_f1 = f1_score(y_test_countvec, rf_countvec_predict)\n",
    "rf_countvec_accuracy = accuracy_score(y_test_countvec, rf_countvec_predict)\n",
    "rf_countvec_auc = roc_auc_score(y_test_countvec, rf_countvec_predict)\n",
    "\n",
    "print(\"Random Forest results\")\n",
    "print(\"Accuracy: \" + str(rf_countvec_accuracy))\n",
    "print(\"F1 score: \" + str(rf_countvec_f1))\n",
    "print(\"AUC: \" + str(rf_countvec_auc))"
   ]
  },
  {
   "cell_type": "code",
   "execution_count": 94,
   "id": "f58bd49b",
   "metadata": {},
   "outputs": [
    {
     "name": "stdout",
     "output_type": "stream",
     "text": [
      "XGB results\n",
      "Accuracy: 0.8780750735837402\n",
      "F1 score: 0.9050556498773816\n",
      "AUC: 0.8870334400515196\n"
     ]
    }
   ],
   "source": [
    "#XGBoost \n",
    "xgb_countvec = XGBRegressor(objective = 'binary:hinge', n_jobs = -1)\n",
    "\n",
    "xgb_countvec.fit(x_train_countvec, y_train_countvec, eval_set = [(x_test_countvec, y_test_countvec)], verbose = False)\n",
    "\n",
    "xgb_countvec_predict = xgb_countvec.predict(x_test_countvec)\n",
    "\n",
    "xgb_countvec_f1 = f1_score(y_test_countvec, xgb_countvec_predict)\n",
    "xgb_countvec_accuracy = accuracy_score(y_test_countvec, xgb_countvec_predict)\n",
    "xgb_countvec_auc = roc_auc_score(y_test_countvec, xgb_countvec_predict)\n",
    "\n",
    "print(\"XGB results\")\n",
    "print(\"Accuracy: \" + str(xgb_countvec_accuracy))\n",
    "print(\"F1 score: \" + str(xgb_countvec_f1))\n",
    "print(\"AUC: \" + str(xgb_countvec_auc))"
   ]
  },
  {
   "cell_type": "markdown",
   "id": "10e911f5-42d6-4ba7-8d39-50066aae9415",
   "metadata": {},
   "source": [
    "## Notes\n",
    "Besides accuracy, F1 was chosen on the basis that it takes note of the positive and negative rates. AUC was also chosen to show the different true positive rates and false positive rates with respect to different decision thresholds. Given that LogisticRegression and LinearSVC achieved the best performance on default parameters, LogisticRegression will be chosen in the interest of time because this model was much faster to train than the LinearSVC"
   ]
  },
  {
   "cell_type": "markdown",
   "id": "eb244b67",
   "metadata": {},
   "source": [
    "# Preparing models for TF-IDF"
   ]
  },
  {
   "cell_type": "code",
   "execution_count": 95,
   "id": "a55d621c",
   "metadata": {},
   "outputs": [],
   "source": [
    "x_train_idf = sentiment_idf_vect_transform[train_indices]\n",
    "y_train_idf = sentiment_df['label'].values[train_indices]\n",
    "\n",
    "x_test_idf = sentiment_idf_vect_transform[test_indices]\n",
    "y_test_idf = sentiment_df['label'].values[test_indices]"
   ]
  },
  {
   "cell_type": "code",
   "execution_count": 96,
   "id": "552311f3",
   "metadata": {},
   "outputs": [
    {
     "name": "stdout",
     "output_type": "stream",
     "text": [
      "Logistic Regression results\n",
      "Accuracy: 0.9711418500708584\n",
      "F1 score: 0.9786281659692229\n",
      "AUC: 0.9667298015987483\n"
     ]
    }
   ],
   "source": [
    "# logistic regression\n",
    "lr_idf = LogisticRegression(n_jobs = -1)\n",
    "\n",
    "lr_idf.fit(x_train_idf, y_train_idf)\n",
    "\n",
    "lr_idf_predict = lr_idf.predict(x_test_idf)\n",
    "\n",
    "lr_idf_f1 = f1_score(y_test_idf, lr_idf_predict)\n",
    "lr_idf_accuracy = accuracy_score(y_test_idf, lr_idf_predict)\n",
    "lr_idf_auc = roc_auc_score(y_test_idf, lr_idf_predict)\n",
    "\n",
    "print(\"Logistic Regression results\")\n",
    "print(\"Accuracy: \" + str(lr_idf_accuracy))\n",
    "print(\"F1 score: \" + str(lr_idf_f1))\n",
    "print(\"AUC: \" + str(lr_idf_auc))"
   ]
  },
  {
   "cell_type": "code",
   "execution_count": 97,
   "id": "d57cc83d",
   "metadata": {},
   "outputs": [
    {
     "name": "stdout",
     "output_type": "stream",
     "text": [
      "KNN classifier results\n",
      "Accuracy: 0.8622681960779564\n",
      "F1 score: 0.898767872086605\n",
      "AUC: 0.8386450050643844\n"
     ]
    }
   ],
   "source": [
    "#KNN\n",
    "\n",
    "knn_idf = KNeighborsClassifier(n_jobs = -1)\n",
    "\n",
    "knn_idf.fit(x_train_idf, y_train_idf)\n",
    "\n",
    "knn_idf_predict = knn_idf.predict(x_test_idf)\n",
    "\n",
    "knn_idf_f1 = f1_score(y_test_idf, knn_idf_predict)\n",
    "knn_idf_accuracy = accuracy_score(y_test_idf, knn_idf_predict)\n",
    "knn_idf_auc = roc_auc_score(y_test_idf, knn_idf_predict)\n",
    "\n",
    "print(\"KNN classifier results\")\n",
    "print(\"Accuracy: \" + str(knn_idf_accuracy))\n",
    "print(\"F1 score: \" + str(knn_idf_f1))\n",
    "print(\"AUC: \" + str(knn_idf_auc))"
   ]
  },
  {
   "cell_type": "code",
   "execution_count": 98,
   "id": "fa6b54b8",
   "metadata": {},
   "outputs": [
    {
     "name": "stdout",
     "output_type": "stream",
     "text": [
      "Naive Bayes results\n",
      "Accuracy: 0.8729696338376192\n",
      "F1 score: 0.9136586108812789\n",
      "AUC: 0.8067949613148807\n"
     ]
    }
   ],
   "source": [
    "# Naive Bayes\n",
    "nb_idf = MultinomialNB()\n",
    "\n",
    "nb_idf.fit(x_train_idf, y_train_idf)\n",
    "\n",
    "nb_idf_predict = nb_idf.predict(x_test_idf)\n",
    "\n",
    "nb_idf_f1 = f1_score(y_test_idf, nb_idf_predict)\n",
    "nb_idf_accuracy = accuracy_score(y_test_idf, nb_idf_predict)\n",
    "nb_idf_auc = roc_auc_score(y_test_idf, nb_idf_predict)\n",
    "\n",
    "print(\"Naive Bayes results\")\n",
    "print(\"Accuracy: \" + str(nb_idf_accuracy))\n",
    "print(\"F1 score: \" + str(nb_idf_f1))\n",
    "print(\"AUC: \" + str(nb_idf_auc))"
   ]
  },
  {
   "cell_type": "code",
   "execution_count": 99,
   "id": "74dd2b31",
   "metadata": {},
   "outputs": [
    {
     "name": "stdout",
     "output_type": "stream",
     "text": [
      "SVM Classifier results\n",
      "Accuracy: 0.9785547305563295\n",
      "F1 score: 0.9840977576985085\n",
      "AUC: 0.9758568900926983\n"
     ]
    }
   ],
   "source": [
    "#SVM. Linear SVC chosen due to classifier and Linear SVC recommended for larger number of samples \n",
    "\n",
    "svc_idf = LinearSVC()\n",
    "\n",
    "svc_idf.fit(x_train_idf, y_train_idf)\n",
    "\n",
    "svc_idf_predict = svc_idf.predict(x_test_idf)\n",
    "\n",
    "svc_idf_f1 = f1_score(y_test_idf, svc_idf_predict)\n",
    "svc_idf_accuracy = accuracy_score(y_test_idf, svc_idf_predict)\n",
    "svc_idf_auc = roc_auc_score(y_test_idf, svc_idf_predict)\n",
    "\n",
    "print(\"SVM Classifier results\")\n",
    "print(\"Accuracy: \" + str(svc_idf_accuracy))\n",
    "print(\"F1 score: \" + str(svc_idf_f1))\n",
    "print(\"AUC: \" + str(svc_idf_auc))"
   ]
  },
  {
   "cell_type": "code",
   "execution_count": 100,
   "id": "00e321a1",
   "metadata": {},
   "outputs": [
    {
     "name": "stdout",
     "output_type": "stream",
     "text": [
      "Decision tree results\n",
      "Accuracy: 0.944663816179944\n",
      "F1 score: 0.9590267220929242\n",
      "AUC: 0.9364715796468838\n"
     ]
    }
   ],
   "source": [
    "#decision trees\n",
    "tree_idf = DecisionTreeClassifier()\n",
    "\n",
    "tree_idf.fit(x_train_idf, y_train_idf)\n",
    "\n",
    "tree_idf_predict = tree_idf.predict(x_test_idf)\n",
    "\n",
    "tree_idf_f1 = f1_score(y_test_idf, tree_idf_predict)\n",
    "tree_idf_accuracy = accuracy_score(y_test_idf, tree_idf_predict)\n",
    "tree_idf_auc = roc_auc_score(y_test_idf, tree_idf_predict)\n",
    "\n",
    "print(\"Decision tree results\")\n",
    "print(\"Accuracy: \" + str(tree_idf_accuracy))\n",
    "print(\"F1 score: \" + str(tree_idf_f1))\n",
    "print(\"AUC: \" + str(tree_idf_auc))"
   ]
  },
  {
   "cell_type": "code",
   "execution_count": 101,
   "id": "7e53ee8c",
   "metadata": {},
   "outputs": [
    {
     "name": "stdout",
     "output_type": "stream",
     "text": [
      "Random Forest results\n",
      "Accuracy: 0.9384803595004785\n",
      "F1 score: 0.954443527554535\n",
      "AUC: 0.9294843726843853\n"
     ]
    }
   ],
   "source": [
    "#random forest\n",
    "rf_idf = RandomForestClassifier(n_jobs = -1)\n",
    "\n",
    "rf_idf.fit(x_train_idf, y_train_idf)\n",
    "\n",
    "rf_idf_predict = rf_idf.predict(x_test_idf)\n",
    "\n",
    "rf_idf_f1 = f1_score(y_test_idf, rf_idf_predict)\n",
    "rf_idf_accuracy = accuracy_score(y_test_idf, rf_idf_predict)\n",
    "rf_idf_auc = roc_auc_score(y_test_idf, rf_idf_predict)\n",
    "\n",
    "print(\"Random Forest results\")\n",
    "print(\"Accuracy: \" + str(rf_idf_accuracy))\n",
    "print(\"F1 score: \" + str(rf_idf_f1))\n",
    "print(\"AUC: \" + str(rf_idf_auc))"
   ]
  },
  {
   "cell_type": "code",
   "execution_count": 102,
   "id": "a662bf92",
   "metadata": {},
   "outputs": [
    {
     "name": "stdout",
     "output_type": "stream",
     "text": [
      "XGB results\n",
      "Accuracy: 0.8731270969851863\n",
      "F1 score: 0.9010387880333885\n",
      "AUC: 0.8822436063104455\n"
     ]
    }
   ],
   "source": [
    "#XGBoost \n",
    "xgb_idf = XGBRegressor(objective = 'binary:hinge', n_jobs = -1)\n",
    "\n",
    "xgb_idf.fit(x_train_idf, y_train_idf, eval_set = [(x_test_idf, y_test_idf)], verbose = False)\n",
    "\n",
    "xgb_idf_predict = xgb_idf.predict(x_test_idf)\n",
    "\n",
    "xgb_idf_f1 = f1_score(y_test_idf, xgb_idf_predict)\n",
    "xgb_idf_accuracy = accuracy_score(y_test_idf, xgb_idf_predict)\n",
    "xgb_idf_auc = roc_auc_score(y_test_idf, xgb_idf_predict)\n",
    "\n",
    "print(\"XGB results\")\n",
    "print(\"Accuracy: \" + str(xgb_idf_accuracy))\n",
    "print(\"F1 score: \" + str(xgb_idf_f1))\n",
    "print(\"AUC: \" + str(xgb_idf_auc))"
   ]
  },
  {
   "cell_type": "markdown",
   "id": "c6b68b49",
   "metadata": {},
   "source": [
    "# Choosing best model to visualize sentiment prediction and true labels between parties"
   ]
  },
  {
   "cell_type": "code",
   "execution_count": 103,
   "id": "98f4b74c",
   "metadata": {},
   "outputs": [],
   "source": [
    "#choose logistic regression due to generally highest AUC and highest F1 score and faster training time than LinearSVC\n",
    "\n"
   ]
  },
  {
   "cell_type": "code",
   "execution_count": null,
   "id": "fca9e826",
   "metadata": {},
   "outputs": [],
   "source": []
  },
  {
   "cell_type": "code",
   "execution_count": null,
   "id": "b6b3b1a2",
   "metadata": {},
   "outputs": [],
   "source": []
  },
  {
   "cell_type": "code",
   "execution_count": 104,
   "id": "6c4e4d0a",
   "metadata": {},
   "outputs": [
    {
     "data": {
      "text/plain": [
       "<Figure size 432x288 with 0 Axes>"
      ]
     },
     "metadata": {},
     "output_type": "display_data"
    },
    {
     "data": {
      "image/png": "[encoded data removed]",
      "text/plain": [
       "<Figure size 432x288 with 1 Axes>"
      ]
     },
     "metadata": {
      "needs_background": "light"
     },
     "output_type": "display_data"
    }
   ],
   "source": [
    "chosen_model_predict = lr_countvec.predict(elections_countvec_transform)\n",
    "\n",
    "plt.figure()\n",
    "bins = [0, 1]\n",
    "\n",
    "plt.figure()\n",
    "plt.hist([elections_df['sentiment'].values, chosen_model_predict], label = ['True labels', 'Predicted labels'], align = 'mid')\n",
    "\n",
    "plt.xlabel(\"Labels\")\n",
    "plt.ylabel(\"Count\")\n",
    "plt.legend(loc = 'upper right')\n",
    "plt.title('Predicted vs true labels for Canadian elections')\n",
    "plt.show()"
   ]
  },
  {
   "cell_type": "code",
   "execution_count": 105,
   "id": "1ae809b8",
   "metadata": {},
   "outputs": [
    {
     "name": "stdout",
     "output_type": "stream",
     "text": [
      "F1 score: 0.708984375\n",
      "AUC: 0.7356904266717086\n",
      "Accuracy: 0.7025948103792415\n"
     ]
    }
   ],
   "source": [
    "elections_f1_score = f1_score(elections_df['sentiment'].values, chosen_model_predict)\n",
    "elections_accuracy = accuracy_score(elections_df['sentiment'].values, chosen_model_predict)\n",
    "elections_auc = roc_auc_score(elections_df['sentiment'].values, chosen_model_predict)\n",
    "\n",
    "print(\"F1 score: \" + str(elections_f1_score))\n",
    "print(\"AUC: \" + str(elections_auc))\n",
    "print(\"Accuracy: \" + str(elections_accuracy))"
   ]
  },
  {
   "cell_type": "code",
   "execution_count": 106,
   "id": "09816b38",
   "metadata": {},
   "outputs": [
    {
     "data": {
      "text/plain": [
       "<Figure size 432x288 with 0 Axes>"
      ]
     },
     "metadata": {},
     "output_type": "display_data"
    },
    {
     "data": {
      "image/png": "[encoded data removed]",
      "text/plain": [
       "<Figure size 432x288 with 1 Axes>"
      ]
     },
     "metadata": {
      "needs_background": "light"
     },
     "output_type": "display_data"
    }
   ],
   "source": [
    "#Predicted vs actual sentiment for NDP\n",
    "ndp_elections_predict = chosen_model_predict[ndp_elections_df.index.tolist()]\n",
    "\n",
    "plt.figure()\n",
    "bins = [0, 1]\n",
    "\n",
    "plt.figure()\n",
    "plt.hist([ndp_elections_df['sentiment'].values, ndp_elections_predict], label = ['True labels', 'Predicted labels'], align = 'mid')\n",
    "\n",
    "plt.xlabel(\"Labels\")\n",
    "plt.ylabel(\"Count\")\n",
    "plt.legend(loc = 'upper right')\n",
    "plt.title('Predicted vs true labels for NDP during elections')\n",
    "plt.show()"
   ]
  },
  {
   "cell_type": "code",
   "execution_count": 107,
   "id": "e51ca02f",
   "metadata": {},
   "outputs": [
    {
     "data": {
      "text/plain": [
       "<Figure size 432x288 with 0 Axes>"
      ]
     },
     "metadata": {},
     "output_type": "display_data"
    },
    {
     "data": {
      "image/png": "[encoded data removed]",
      "text/plain": [
       "<Figure size 432x288 with 1 Axes>"
      ]
     },
     "metadata": {
      "needs_background": "light"
     },
     "output_type": "display_data"
    }
   ],
   "source": [
    "#Predicted vs actual sentiment for Conservatives\n",
    "\n",
    "cons_elections_predict = chosen_model_predict[cons_elections_df.index.tolist()]\n",
    "\n",
    "plt.figure()\n",
    "bins = [0, 1]\n",
    "\n",
    "plt.figure()\n",
    "plt.hist([cons_elections_df['sentiment'].values, cons_elections_predict], label = ['True labels', 'Predicted labels'], align = 'mid')\n",
    "\n",
    "plt.xlabel(\"Labels\")\n",
    "plt.ylabel(\"Count\")\n",
    "plt.legend(loc = 'upper right')\n",
    "plt.title('Predicted vs true labels for Conservatives during elections')\n",
    "plt.show()"
   ]
  },
  {
   "cell_type": "code",
   "execution_count": 108,
   "id": "deacf967",
   "metadata": {},
   "outputs": [
    {
     "data": {
      "text/plain": [
       "<Figure size 432x288 with 0 Axes>"
      ]
     },
     "metadata": {},
     "output_type": "display_data"
    },
    {
     "data": {
      "image/png": "[encoded data removed]",
      "text/plain": [
       "<Figure size 432x288 with 1 Axes>"
      ]
     },
     "metadata": {
      "needs_background": "light"
     },
     "output_type": "display_data"
    }
   ],
   "source": [
    "#Predicted vs actual sentiment for Liberals \n",
    "\n",
    "liberals_elections_predict = chosen_model_predict[liberals_elections_df.index.tolist()]\n",
    "\n",
    "plt.figure()\n",
    "bins = [0, 1]\n",
    "\n",
    "plt.figure()\n",
    "plt.hist([liberals_elections_df['sentiment'].values, liberals_elections_predict], label = ['True labels', 'Predicted labels'], align = 'mid')\n",
    "\n",
    "plt.xlabel(\"Labels\")\n",
    "plt.ylabel(\"Count\")\n",
    "plt.legend(loc = 'upper right')\n",
    "plt.title('Predicted vs true labels for Liberals during elections')\n",
    "plt.show()"
   ]
  },
  {
   "cell_type": "code",
   "execution_count": 109,
   "id": "c9ea70c0",
   "metadata": {},
   "outputs": [
    {
     "data": {
      "text/plain": [
       "<Figure size 432x288 with 0 Axes>"
      ]
     },
     "metadata": {},
     "output_type": "display_data"
    },
    {
     "data": {
      "image/png": "[encoded data removed]",
      "text/plain": [
       "<Figure size 432x288 with 1 Axes>"
      ]
     },
     "metadata": {
      "needs_background": "light"
     },
     "output_type": "display_data"
    }
   ],
   "source": [
    "#Predicted vs actual sentiment for PPC \n",
    "\n",
    "ppc_elections_predict = chosen_model_predict[ppc_elections_df.index.tolist()]\n",
    "\n",
    "plt.figure()\n",
    "bins = [0, 1]\n",
    "\n",
    "plt.figure()\n",
    "plt.hist([ppc_elections_df['sentiment'].values, ppc_elections_predict], label = ['True labels', 'Predicted labels'], align = 'mid')\n",
    "\n",
    "plt.xlabel(\"Labels\")\n",
    "plt.ylabel(\"Count\")\n",
    "plt.legend(loc = 'upper right')\n",
    "plt.title('Predicted vs true labels for PPC during elections')\n",
    "plt.show()"
   ]
  },
  {
   "cell_type": "markdown",
   "id": "60adc63b-d53d-4420-9e8a-cf35e03af8e7",
   "metadata": {},
   "source": [
    "##  Discussion of findings\n",
    "This could be very much because the training set is more general sentiment related while the election is more specific (and also less tweets).\n",
    "It could  be that the models are more ready for the kind of data used in sentiment and less prepared for election. \n",
    "Sarcasm could perhaps be a reason why the elections df is so different compared to the sentiment df. \n",
    "It could also be that because the general sentiment covers all sorts of topics, it could be that anything political in the general sentiment is more likely to be negative.\n",
    "Therefore, when applied from training general sentiment to elections, the model may have learned to be more likely to assume politics as negative topics. "
   ]
  },
  {
   "cell_type": "code",
   "execution_count": null,
   "id": "b1f1b610",
   "metadata": {},
   "outputs": [],
   "source": []
  },
  {
   "cell_type": "markdown",
   "id": "36ace061",
   "metadata": {},
   "source": [
    "# Split negative election tweets to predict reason of negative tweets"
   ]
  },
  {
   "cell_type": "code",
   "execution_count": 111,
   "id": "0c6ab146",
   "metadata": {},
   "outputs": [],
   "source": [
    "negative_elections_df = elections_df.loc[elections_df['sentiment'] == 0]"
   ]
  },
  {
   "cell_type": "code",
   "execution_count": 112,
   "id": "25347b1c",
   "metadata": {},
   "outputs": [
    {
     "data": {
      "text/html": [
       "<div>\n",
       "<style scoped>\n",
       "    .dataframe tbody tr th:only-of-type {\n",
       "        vertical-align: middle;\n",
       "    }\n",
       "\n",
       "    .dataframe tbody tr th {\n",
       "        vertical-align: top;\n",
       "    }\n",
       "\n",
       "    .dataframe thead th {\n",
       "        text-align: right;\n",
       "    }\n",
       "</style>\n",
       "<table border=\"1\" class=\"dataframe\">\n",
       "  <thead>\n",
       "    <tr style=\"text-align: right;\">\n",
       "      <th></th>\n",
       "      <th>text</th>\n",
       "      <th>sentiment</th>\n",
       "      <th>negative_reason</th>\n",
       "      <th>NLTK_polarity</th>\n",
       "    </tr>\n",
       "  </thead>\n",
       "  <tbody>\n",
       "    <tr>\n",
       "      <td>0</td>\n",
       "      <td>canadian election power grab pm trudeau, yes t...</td>\n",
       "      <td>0</td>\n",
       "      <td>calling election early</td>\n",
       "      <td>{'neg': 0.082, 'neu': 0.681, 'pos': 0.237, 'co...</td>\n",
       "    </tr>\n",
       "    <tr>\n",
       "      <td>1</td>\n",
       "      <td>hope trudeau loses canadian election tomorrow ...</td>\n",
       "      <td>0</td>\n",
       "      <td>covid</td>\n",
       "      <td>{'neg': 0.099, 'neu': 0.628, 'pos': 0.274, 'co...</td>\n",
       "    </tr>\n",
       "    <tr>\n",
       "      <td>3</td>\n",
       "      <td>canadian friends: never forget trudeau 2 year ...</td>\n",
       "      <td>0</td>\n",
       "      <td>calling election early</td>\n",
       "      <td>{'neg': 0.0, 'neu': 0.828, 'pos': 0.172, 'comp...</td>\n",
       "    </tr>\n",
       "    <tr>\n",
       "      <td>5</td>\n",
       "      <td>vaccine &amp; gun key election o'toole serious pla...</td>\n",
       "      <td>0</td>\n",
       "      <td>covid</td>\n",
       "      <td>{'neg': 0.173, 'neu': 0.652, 'pos': 0.176, 'co...</td>\n",
       "    </tr>\n",
       "    <tr>\n",
       "      <td>6</td>\n",
       "      <td>i\\u2019m sorry, moderator respond leadership c...</td>\n",
       "      <td>0</td>\n",
       "      <td>others</td>\n",
       "      <td>{'neg': 0.201, 'neu': 0.716, 'pos': 0.083, 'co...</td>\n",
       "    </tr>\n",
       "  </tbody>\n",
       "</table>\n",
       "</div>"
      ],
      "text/plain": [
       "                                                text  sentiment  \\\n",
       "0  canadian election power grab pm trudeau, yes t...          0   \n",
       "1  hope trudeau loses canadian election tomorrow ...          0   \n",
       "3  canadian friends: never forget trudeau 2 year ...          0   \n",
       "5  vaccine & gun key election o'toole serious pla...          0   \n",
       "6  i\\u2019m sorry, moderator respond leadership c...          0   \n",
       "\n",
       "          negative_reason                                      NLTK_polarity  \n",
       "0  calling election early  {'neg': 0.082, 'neu': 0.681, 'pos': 0.237, 'co...  \n",
       "1                  covid   {'neg': 0.099, 'neu': 0.628, 'pos': 0.274, 'co...  \n",
       "3  calling election early  {'neg': 0.0, 'neu': 0.828, 'pos': 0.172, 'comp...  \n",
       "5                  covid   {'neg': 0.173, 'neu': 0.652, 'pos': 0.176, 'co...  \n",
       "6                  others  {'neg': 0.201, 'neu': 0.716, 'pos': 0.083, 'co...  "
      ]
     },
     "execution_count": 112,
     "metadata": {},
     "output_type": "execute_result"
    }
   ],
   "source": [
    "negative_elections_df.head()"
   ]
  },
  {
   "cell_type": "code",
   "execution_count": 113,
   "id": "e994fe4f",
   "metadata": {},
   "outputs": [],
   "source": [
    "negative_elections_indexes = negative_elections_df.index.tolist()"
   ]
  },
  {
   "cell_type": "code",
   "execution_count": 114,
   "id": "5063029f",
   "metadata": {},
   "outputs": [],
   "source": [
    "negative_elections_countvec = elections_countvec_transform[negative_elections_indexes]"
   ]
  },
  {
   "cell_type": "code",
   "execution_count": 115,
   "id": "2e01c7b9",
   "metadata": {},
   "outputs": [],
   "source": [
    "negative_elections_df = negative_elections_df.reset_index(drop = True, inplace = False)"
   ]
  },
  {
   "cell_type": "code",
   "execution_count": 116,
   "id": "b7f1d2ed",
   "metadata": {},
   "outputs": [
    {
     "data": {
      "text/html": [
       "<div>\n",
       "<style scoped>\n",
       "    .dataframe tbody tr th:only-of-type {\n",
       "        vertical-align: middle;\n",
       "    }\n",
       "\n",
       "    .dataframe tbody tr th {\n",
       "        vertical-align: top;\n",
       "    }\n",
       "\n",
       "    .dataframe thead th {\n",
       "        text-align: right;\n",
       "    }\n",
       "</style>\n",
       "<table border=\"1\" class=\"dataframe\">\n",
       "  <thead>\n",
       "    <tr style=\"text-align: right;\">\n",
       "      <th></th>\n",
       "      <th>text</th>\n",
       "      <th>sentiment</th>\n",
       "      <th>negative_reason</th>\n",
       "      <th>NLTK_polarity</th>\n",
       "    </tr>\n",
       "  </thead>\n",
       "  <tbody>\n",
       "    <tr>\n",
       "      <td>0</td>\n",
       "      <td>canadian election power grab pm trudeau, yes t...</td>\n",
       "      <td>0</td>\n",
       "      <td>calling election early</td>\n",
       "      <td>{'neg': 0.082, 'neu': 0.681, 'pos': 0.237, 'co...</td>\n",
       "    </tr>\n",
       "    <tr>\n",
       "      <td>1</td>\n",
       "      <td>hope trudeau loses canadian election tomorrow ...</td>\n",
       "      <td>0</td>\n",
       "      <td>covid</td>\n",
       "      <td>{'neg': 0.099, 'neu': 0.628, 'pos': 0.274, 'co...</td>\n",
       "    </tr>\n",
       "    <tr>\n",
       "      <td>2</td>\n",
       "      <td>canadian friends: never forget trudeau 2 year ...</td>\n",
       "      <td>0</td>\n",
       "      <td>calling election early</td>\n",
       "      <td>{'neg': 0.0, 'neu': 0.828, 'pos': 0.172, 'comp...</td>\n",
       "    </tr>\n",
       "    <tr>\n",
       "      <td>3</td>\n",
       "      <td>vaccine &amp; gun key election o'toole serious pla...</td>\n",
       "      <td>0</td>\n",
       "      <td>covid</td>\n",
       "      <td>{'neg': 0.173, 'neu': 0.652, 'pos': 0.176, 'co...</td>\n",
       "    </tr>\n",
       "    <tr>\n",
       "      <td>4</td>\n",
       "      <td>i\\u2019m sorry, moderator respond leadership c...</td>\n",
       "      <td>0</td>\n",
       "      <td>others</td>\n",
       "      <td>{'neg': 0.201, 'neu': 0.716, 'pos': 0.083, 'co...</td>\n",
       "    </tr>\n",
       "  </tbody>\n",
       "</table>\n",
       "</div>"
      ],
      "text/plain": [
       "                                                text  sentiment  \\\n",
       "0  canadian election power grab pm trudeau, yes t...          0   \n",
       "1  hope trudeau loses canadian election tomorrow ...          0   \n",
       "2  canadian friends: never forget trudeau 2 year ...          0   \n",
       "3  vaccine & gun key election o'toole serious pla...          0   \n",
       "4  i\\u2019m sorry, moderator respond leadership c...          0   \n",
       "\n",
       "          negative_reason                                      NLTK_polarity  \n",
       "0  calling election early  {'neg': 0.082, 'neu': 0.681, 'pos': 0.237, 'co...  \n",
       "1                  covid   {'neg': 0.099, 'neu': 0.628, 'pos': 0.274, 'co...  \n",
       "2  calling election early  {'neg': 0.0, 'neu': 0.828, 'pos': 0.172, 'comp...  \n",
       "3                  covid   {'neg': 0.173, 'neu': 0.652, 'pos': 0.176, 'co...  \n",
       "4                  others  {'neg': 0.201, 'neu': 0.716, 'pos': 0.083, 'co...  "
      ]
     },
     "execution_count": 116,
     "metadata": {},
     "output_type": "execute_result"
    }
   ],
   "source": [
    "negative_elections_df.head()"
   ]
  },
  {
   "cell_type": "code",
   "execution_count": 117,
   "id": "8e7168f9",
   "metadata": {},
   "outputs": [
    {
     "data": {
      "text/plain": [
       "array(['calling election early', 'covid ', 'others', 'scandal',\n",
       "       'tell lies', 'gun control', 'economy', 'healthcare and marijuana',\n",
       "       'segregation', 'women reproductive right and racism',\n",
       "       'climate problem'], dtype=object)"
      ]
     },
     "execution_count": 117,
     "metadata": {},
     "output_type": "execute_result"
    }
   ],
   "source": [
    "negative_elections_df['negative_reason'].unique()"
   ]
  },
  {
   "cell_type": "code",
   "execution_count": 118,
   "id": "ab2b75a6",
   "metadata": {},
   "outputs": [
    {
     "data": {
      "text/plain": [
       "others                                 149\n",
       "calling election early                  73\n",
       "tell lies                               61\n",
       "covid                                   25\n",
       "economy                                 20\n",
       "gun control                             16\n",
       "climate problem                         15\n",
       "scandal                                 14\n",
       "healthcare and marijuana                 7\n",
       "women reproductive right and racism      4\n",
       "segregation                              3\n",
       "Name: negative_reason, dtype: int64"
      ]
     },
     "execution_count": 118,
     "metadata": {},
     "output_type": "execute_result"
    }
   ],
   "source": [
    "negative_elections_df['negative_reason'].value_counts()"
   ]
  },
  {
   "cell_type": "code",
   "execution_count": 119,
   "id": "7980f225",
   "metadata": {},
   "outputs": [],
   "source": [
    "negative_elections_df['negative_reason'] = LabelEncoder().fit_transform(negative_elections_df['negative_reason'])"
   ]
  },
  {
   "cell_type": "code",
   "execution_count": 120,
   "id": "dd030b22",
   "metadata": {},
   "outputs": [
    {
     "data": {
      "text/html": [
       "<div>\n",
       "<style scoped>\n",
       "    .dataframe tbody tr th:only-of-type {\n",
       "        vertical-align: middle;\n",
       "    }\n",
       "\n",
       "    .dataframe tbody tr th {\n",
       "        vertical-align: top;\n",
       "    }\n",
       "\n",
       "    .dataframe thead th {\n",
       "        text-align: right;\n",
       "    }\n",
       "</style>\n",
       "<table border=\"1\" class=\"dataframe\">\n",
       "  <thead>\n",
       "    <tr style=\"text-align: right;\">\n",
       "      <th></th>\n",
       "      <th>text</th>\n",
       "      <th>sentiment</th>\n",
       "      <th>negative_reason</th>\n",
       "      <th>NLTK_polarity</th>\n",
       "    </tr>\n",
       "  </thead>\n",
       "  <tbody>\n",
       "    <tr>\n",
       "      <td>0</td>\n",
       "      <td>canadian election power grab pm trudeau, yes t...</td>\n",
       "      <td>0</td>\n",
       "      <td>0</td>\n",
       "      <td>{'neg': 0.082, 'neu': 0.681, 'pos': 0.237, 'co...</td>\n",
       "    </tr>\n",
       "    <tr>\n",
       "      <td>1</td>\n",
       "      <td>hope trudeau loses canadian election tomorrow ...</td>\n",
       "      <td>0</td>\n",
       "      <td>2</td>\n",
       "      <td>{'neg': 0.099, 'neu': 0.628, 'pos': 0.274, 'co...</td>\n",
       "    </tr>\n",
       "    <tr>\n",
       "      <td>2</td>\n",
       "      <td>canadian friends: never forget trudeau 2 year ...</td>\n",
       "      <td>0</td>\n",
       "      <td>0</td>\n",
       "      <td>{'neg': 0.0, 'neu': 0.828, 'pos': 0.172, 'comp...</td>\n",
       "    </tr>\n",
       "    <tr>\n",
       "      <td>3</td>\n",
       "      <td>vaccine &amp; gun key election o'toole serious pla...</td>\n",
       "      <td>0</td>\n",
       "      <td>2</td>\n",
       "      <td>{'neg': 0.173, 'neu': 0.652, 'pos': 0.176, 'co...</td>\n",
       "    </tr>\n",
       "    <tr>\n",
       "      <td>4</td>\n",
       "      <td>i\\u2019m sorry, moderator respond leadership c...</td>\n",
       "      <td>0</td>\n",
       "      <td>6</td>\n",
       "      <td>{'neg': 0.201, 'neu': 0.716, 'pos': 0.083, 'co...</td>\n",
       "    </tr>\n",
       "  </tbody>\n",
       "</table>\n",
       "</div>"
      ],
      "text/plain": [
       "                                                text  sentiment  \\\n",
       "0  canadian election power grab pm trudeau, yes t...          0   \n",
       "1  hope trudeau loses canadian election tomorrow ...          0   \n",
       "2  canadian friends: never forget trudeau 2 year ...          0   \n",
       "3  vaccine & gun key election o'toole serious pla...          0   \n",
       "4  i\\u2019m sorry, moderator respond leadership c...          0   \n",
       "\n",
       "   negative_reason                                      NLTK_polarity  \n",
       "0                0  {'neg': 0.082, 'neu': 0.681, 'pos': 0.237, 'co...  \n",
       "1                2  {'neg': 0.099, 'neu': 0.628, 'pos': 0.274, 'co...  \n",
       "2                0  {'neg': 0.0, 'neu': 0.828, 'pos': 0.172, 'comp...  \n",
       "3                2  {'neg': 0.173, 'neu': 0.652, 'pos': 0.176, 'co...  \n",
       "4                6  {'neg': 0.201, 'neu': 0.716, 'pos': 0.083, 'co...  "
      ]
     },
     "execution_count": 120,
     "metadata": {},
     "output_type": "execute_result"
    }
   ],
   "source": [
    "negative_elections_df.head()"
   ]
  },
  {
   "cell_type": "code",
   "execution_count": 121,
   "id": "65636602",
   "metadata": {},
   "outputs": [],
   "source": [
    "negative_train_indices = None\n",
    "negative_test_indices = None"
   ]
  },
  {
   "cell_type": "code",
   "execution_count": 122,
   "id": "9b519c9b",
   "metadata": {},
   "outputs": [],
   "source": [
    "for train_index, test_index in splitter.split(negative_elections_df):\n",
    "    negative_train_indices = train_index\n",
    "    negative_test_indices = test_index"
   ]
  },
  {
   "cell_type": "code",
   "execution_count": 123,
   "id": "35c7af2c",
   "metadata": {},
   "outputs": [],
   "source": [
    "negative_x_train_countvec = negative_elections_countvec[negative_train_indices]\n",
    "negative_y_train_countvec = negative_elections_df['negative_reason'].values[negative_train_indices]\n",
    "\n",
    "negative_x_test_countvec = negative_elections_countvec[negative_test_indices]\n",
    "negative_y_test_countvec = negative_elections_df['negative_reason'].values[negative_test_indices]"
   ]
  },
  {
   "cell_type": "code",
   "execution_count": 124,
   "id": "8129dc63",
   "metadata": {},
   "outputs": [
    {
     "name": "stdout",
     "output_type": "stream",
     "text": [
      "Negative reason F1 score: 0.4444444444444444\n",
      "Negative reason accuracy: 0.4444444444444444\n"
     ]
    }
   ],
   "source": [
    "negative_model = LogisticRegression(n_jobs = -1)\n",
    "\n",
    "negative_model.fit(negative_x_train_countvec, negative_y_train_countvec)\n",
    "\n",
    "negative_model_predict = negative_model.predict(negative_x_test_countvec)\n",
    "\n",
    "negative_model_f1 = f1_score(negative_y_test_countvec, negative_model_predict, average = 'micro')\n",
    "negative_model_accuracy = accuracy_score(negative_y_test_countvec, negative_model_predict)\n",
    "\n",
    "print(\"Negative reason F1 score: \" + str(negative_model_f1))\n",
    "print(\"Negative reason accuracy: \" + str(negative_model_accuracy))"
   ]
  },
  {
   "cell_type": "markdown",
   "id": "88060cd2-3191-4caa-a9a8-4ccab2883baf",
   "metadata": {},
   "source": [
    "## Discussion\n",
    "The model may fail to predict the correct reason because of the severe imbalance of all the other labels. \n",
    "For example, \"other\" is disproportionately higher, so the model can be expected to be more biased towards \"others\".\n",
    "One way to improve model accuracy is to ensure that the data is more balanced."
   ]
  },
  {
   "cell_type": "code",
   "execution_count": null,
   "id": "bb670ac0",
   "metadata": {},
   "outputs": [],
   "source": []
  },
  {
   "cell_type": "markdown",
   "id": "da9bcc32",
   "metadata": {},
   "source": [
    "# Frequency of words for positive and negative tweets in elections.csv"
   ]
  },
  {
   "cell_type": "code",
   "execution_count": 127,
   "id": "0f440b76",
   "metadata": {},
   "outputs": [],
   "source": [
    "#Top 50 words for positive labels"
   ]
  },
  {
   "cell_type": "code",
   "execution_count": 128,
   "id": "b2dc75f8",
   "metadata": {},
   "outputs": [],
   "source": [
    "positive_elections_df = elections_df.loc[elections_df['sentiment'] == 1]"
   ]
  },
  {
   "cell_type": "code",
   "execution_count": 129,
   "id": "02d35da3",
   "metadata": {},
   "outputs": [],
   "source": [
    "positive_corpus = positive_elections_df['text'].values"
   ]
  },
  {
   "cell_type": "code",
   "execution_count": 130,
   "id": "5f5f8683",
   "metadata": {},
   "outputs": [
    {
     "data": {
      "text/plain": [
       "<615x3267 sparse matrix of type '<class 'numpy.int64'>'\n",
       "\twith 10353 stored elements in Compressed Sparse Row format>"
      ]
     },
     "execution_count": 130,
     "metadata": {},
     "output_type": "execute_result"
    }
   ],
   "source": [
    "positive_vectorizer = CountVectorizer(tokenizer = tokenizer.tokenize, stop_words = 'english', analyzer = 'word')\n",
    "positive_vectorizer.fit_transform(positive_corpus)"
   ]
  },
  {
   "cell_type": "code",
   "execution_count": 131,
   "id": "22cb41aa",
   "metadata": {},
   "outputs": [],
   "source": [
    "positive_counter = Counter(positive_vectorizer.vocabulary_)"
   ]
  },
  {
   "cell_type": "code",
   "execution_count": 132,
   "id": "f94e732c",
   "metadata": {},
   "outputs": [
    {
     "name": "stdout",
     "output_type": "stream",
     "text": [
      "zero 3266\n",
      "youtube 3265\n",
      "youth 3264\n",
      "young 3263\n",
      "yo 3262\n",
      "yesterday 3261\n",
      "yes 3260\n",
      "yelling 3259\n",
      "years 3258\n",
      "year 3257\n",
      "yeah 3256\n",
      "yea 3255\n",
      "ya 3254\n",
      "y 3253\n",
      "xi 3252\n",
      "wtg 3251\n",
      "wrote 3250\n",
      "wrong 3249\n",
      "wow 3248\n",
      "wouldn 3247\n",
      "worthwhile 3246\n",
      "worth 3245\n",
      "worry 3244\n",
      "world 3243\n",
      "working 3242\n",
      "workers 3241\n",
      "worker 3240\n",
      "worked 3239\n",
      "work 3238\n",
      "word 3237\n",
      "woohoo 3236\n",
      "wondering 3235\n",
      "wonderful 3234\n",
      "wonder 3233\n",
      "won 3232\n",
      "women 3231\n",
      "woman 3230\n",
      "witty 3229\n",
      "wishing 3228\n",
      "wish 3227\n",
      "wisely 3226\n",
      "wise 3225\n",
      "wisdom 3224\n",
      "wipe 3223\n",
      "wins 3222\n",
      "winning 3221\n",
      "winnie 3220\n",
      "wing 3219\n",
      "win 3218\n",
      "willingness 3217\n"
     ]
    }
   ],
   "source": [
    "for k, v in positive_counter.most_common(50):\n",
    "    print (k, v)"
   ]
  },
  {
   "cell_type": "code",
   "execution_count": 133,
   "id": "04742b60",
   "metadata": {},
   "outputs": [],
   "source": [
    "#Top 50 words for negative labels"
   ]
  },
  {
   "cell_type": "code",
   "execution_count": 134,
   "id": "ce206b01",
   "metadata": {},
   "outputs": [],
   "source": [
    "negative_elections_df = elections_df.loc[elections_df['sentiment'] == 0]"
   ]
  },
  {
   "cell_type": "code",
   "execution_count": 135,
   "id": "2720397d",
   "metadata": {},
   "outputs": [],
   "source": [
    "negative_corpus = negative_elections_df['text'].values"
   ]
  },
  {
   "cell_type": "code",
   "execution_count": 136,
   "id": "e6f6f75b",
   "metadata": {},
   "outputs": [
    {
     "data": {
      "text/plain": [
       "<387x2668 sparse matrix of type '<class 'numpy.int64'>'\n",
       "\twith 7198 stored elements in Compressed Sparse Row format>"
      ]
     },
     "execution_count": 136,
     "metadata": {},
     "output_type": "execute_result"
    }
   ],
   "source": [
    "negative_vectorizer = CountVectorizer(tokenizer = tokenizer.tokenize, stop_words = 'english', analyzer = 'word')\n",
    "negative_vectorizer.fit_transform(negative_corpus)"
   ]
  },
  {
   "cell_type": "code",
   "execution_count": 137,
   "id": "b6aadb74",
   "metadata": {},
   "outputs": [],
   "source": [
    "negative_counter = Counter(negative_vectorizer.vocabulary_)"
   ]
  },
  {
   "cell_type": "code",
   "execution_count": 138,
   "id": "28493c5d",
   "metadata": {},
   "outputs": [
    {
     "name": "stdout",
     "output_type": "stream",
     "text": [
      "zero 2667\n",
      "zealot 2666\n",
      "yup 2665\n",
      "younger 2664\n",
      "yo 2663\n",
      "yesterday 2662\n",
      "yes 2661\n",
      "yelled 2660\n",
      "years 2659\n",
      "year 2658\n",
      "yeah 2657\n",
      "yankee 2656\n",
      "y 2655\n",
      "wth 2654\n",
      "wtf 2653\n",
      "wrongdoing 2652\n",
      "wrong 2651\n",
      "write 2650\n",
      "wrecking 2649\n",
      "wow 2648\n",
      "wouldn 2647\n",
      "worthless 2646\n",
      "worth 2645\n",
      "worst 2644\n",
      "worse 2643\n",
      "worrying 2642\n",
      "worry 2641\n",
      "worried 2640\n",
      "worn 2639\n",
      "worldwide 2638\n",
      "worldview 2637\n",
      "world 2636\n",
      "works 2635\n",
      "working 2634\n",
      "workers 2633\n",
      "worker 2632\n",
      "work 2631\n",
      "wore 2630\n",
      "wordsmithing 2629\n",
      "word 2628\n",
      "wood 2627\n",
      "wont 2626\n",
      "won 2625\n",
      "women 2624\n",
      "woman 2623\n",
      "wokist 2622\n",
      "witness 2621\n",
      "withholding 2620\n",
      "wishing 2619\n",
      "wish 2618\n"
     ]
    }
   ],
   "source": [
    "for k, v in negative_counter.most_common(50):\n",
    "    print(k, v)"
   ]
  },
  {
   "cell_type": "markdown",
   "id": "54ce136f-dc59-4cca-b3a1-1d1a200d3457",
   "metadata": {},
   "source": [
    "## Notes\n",
    "Between both positive and negative sentamints, it appears there are several similarities such as with regards to the youth, workers, the world, and women. However, there are some differences such as how the positive tweets focus more on winning, worthwhile, and wisdom, while the negative tweets focus more on worthless, wokist, and slang terms such as “wtf”. "
   ]
  },
  {
   "cell_type": "code",
   "execution_count": 139,
   "id": "f2f2f766",
   "metadata": {},
   "outputs": [
    {
     "name": "stdout",
     "output_type": "stream",
     "text": [
      "Total elapsed time (seconds): 8437.708517551422\n"
     ]
    }
   ],
   "source": [
    "end_time = time.time()\n",
    "\n",
    "print(\"Total elapsed time (seconds): \" + str(end_time-start_time))"
   ]
  }
 ],
 "metadata": {
  "kernelspec": {
   "display_name": "Python 3",
   "language": "python",
   "name": "python3"
  },
  "language_info": {
   "codemirror_mode": {
    "name": "ipython",
    "version": 3
   },
   "file_extension": ".py",
   "mimetype": "text/x-python",
   "name": "python",
   "nbconvert_exporter": "python",
   "pygments_lexer": "ipython3",
   "version": "3.8.8"
  }
 },
 "nbformat": 4,
 "nbformat_minor": 5
}
